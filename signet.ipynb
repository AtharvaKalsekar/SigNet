{
  "nbformat": 4,
  "nbformat_minor": 0,
  "metadata": {
    "colab": {
      "name": "signet.ipynb",
      "version": "0.3.2",
      "provenance": [],
      "collapsed_sections": []
    },
    "kernelspec": {
      "name": "python3",
      "display_name": "Python 3"
    },
    "accelerator": "GPU"
  },
  "cells": [
    {
      "cell_type": "code",
      "metadata": {
        "id": "hlTs1b1JEyIN",
        "colab_type": "code",
        "colab": {}
      },
      "source": [
        "# -2\n",
        "# Run this cell to mount your Google Drive.\n",
        "from google.colab import drive\n",
        "drive.mount('/content/drive')"
      ],
      "execution_count": 0,
      "outputs": []
    },
    {
      "cell_type": "code",
      "metadata": {
        "id": "X9QWHel1Tzdx",
        "colab_type": "code",
        "outputId": "036c9ad0-f3b7-44a0-cb5c-246c3b009ec8",
        "colab": {
          "base_uri": "https://localhost:8080/",
          "height": 309
        }
      },
      "source": [
        "# -1\n",
        "!wget -O \"./drive/My Drive/Colab Notebooks/SigNet/signatures.rar\" \"http://www.cedar.buffalo.edu/NIJ/data/signatures.rar\""
      ],
      "execution_count": 0,
      "outputs": [
        {
          "output_type": "stream",
          "text": [
            "--2019-06-29 17:50:53--  http://www.cedar.buffalo.edu/NIJ/data/signatures.rar\n",
            "Resolving www.cedar.buffalo.edu (www.cedar.buffalo.edu)... 128.205.237.100\n",
            "Connecting to www.cedar.buffalo.edu (www.cedar.buffalo.edu)|128.205.237.100|:80... connected.\n",
            "HTTP request sent, awaiting response... 301 Moved Permanently\n",
            "Location: https://cedar.buffalo.edu/NIJ/data/signatures.rar [following]\n",
            "--2019-06-29 17:50:53--  https://cedar.buffalo.edu/NIJ/data/signatures.rar\n",
            "Resolving cedar.buffalo.edu (cedar.buffalo.edu)... 128.205.237.100\n",
            "Connecting to cedar.buffalo.edu (cedar.buffalo.edu)|128.205.237.100|:443... connected.\n",
            "HTTP request sent, awaiting response... 200 OK\n",
            "Length: 253587033 (242M) [text/plain]\n",
            "Saving to: ‘./drive/My Drive/Colab Notebooks/SigNet/signatures.rar’\n",
            "\n",
            "./drive/My Drive/Co 100%[===================>] 241.84M  63.3MB/s    in 4.6s    \n",
            "\n",
            "2019-06-29 17:50:58 (53.0 MB/s) - ‘./drive/My Drive/Colab Notebooks/SigNet/signatures.rar’ saved [253587033/253587033]\n",
            "\n"
          ],
          "name": "stdout"
        }
      ]
    },
    {
      "cell_type": "code",
      "metadata": {
        "id": "GyitYH7aVzZ8",
        "colab_type": "code",
        "outputId": "82e8c4c4-2bcb-412d-e5b8-8b603d6d3b32",
        "colab": {
          "base_uri": "https://localhost:8080/",
          "height": 122
        }
      },
      "source": [
        "# 0\n",
        "# Run this cell to mount your Google Drive.\n",
        "from google.colab import drive\n",
        "drive.mount('/content/drive')"
      ],
      "execution_count": 1,
      "outputs": [
        {
          "output_type": "stream",
          "text": [
            "Go to this URL in a browser: https://accounts.google.com/o/oauth2/auth?client_id=947318989803-6bn6qk8qdgf4n4g3pfee6491hc0brc4i.apps.googleusercontent.com&redirect_uri=urn%3Aietf%3Awg%3Aoauth%3A2.0%3Aoob&scope=email%20https%3A%2F%2Fwww.googleapis.com%2Fauth%2Fdocs.test%20https%3A%2F%2Fwww.googleapis.com%2Fauth%2Fdrive%20https%3A%2F%2Fwww.googleapis.com%2Fauth%2Fdrive.photos.readonly%20https%3A%2F%2Fwww.googleapis.com%2Fauth%2Fpeopleapi.readonly&response_type=code\n",
            "\n",
            "Enter your authorization code:\n",
            "··········\n",
            "Mounted at /content/drive\n"
          ],
          "name": "stdout"
        }
      ]
    },
    {
      "cell_type": "code",
      "metadata": {
        "id": "g_YZvaTuWVAp",
        "colab_type": "code",
        "colab": {}
      },
      "source": [
        "import os\n",
        "from natsort import natsorted, ns\n",
        "\n",
        "def get_image_list():\n",
        "  org_signs = os.listdir(\"drive/My Drive/Colab Notebooks/SigNet/signatures/signatures/full_org\")\n",
        "  forg_signs = os.listdir(\"drive/My Drive/Colab Notebooks/SigNet/signatures/signatures/full_forg\")\n",
        "  org_signs = [s for s in org_signs if s.endswith(\".png\")]\n",
        "  forg_signs = [s for s in forg_signs if s.endswith(\".png\")]\n",
        "  org_signs = natsorted(org_signs, alg=ns.IGNORECASE)\n",
        "  forg_signs = natsorted(forg_signs, alg=ns.IGNORECASE)\n",
        "  return org_signs, forg_signs"
      ],
      "execution_count": 0,
      "outputs": []
    },
    {
      "cell_type": "code",
      "metadata": {
        "id": "3FeQ6a85PngV",
        "colab_type": "code",
        "colab": {}
      },
      "source": [
        "# data cleaning\n",
        "def check_lists(org_signs,forg_signs):\n",
        "  flag = False\n",
        "  print(len(org_signs),len(forg_signs))\n",
        "  for i in range(len(org_signs)):\n",
        "    org_ext = org_signs[i][8:]\n",
        "    forg_ext = forg_signs[i][9:]\n",
        "    if org_ext != forg_ext:\n",
        "      flag = True\n",
        "      print(i,org_ext,forg_ext)\n",
        "  if(flag):\n",
        "    print(\"Mismatches found\")\n",
        "  else:\n",
        "    print(\"No mismatch found\")\n",
        "\n",
        "def refine_lists(org_signs,forg_signs):\n",
        "  refined_org_signs = []\n",
        "  for i in range(len(org_signs)):\n",
        "    if \"_41_\" in org_signs[i]:\n",
        "      continue\n",
        "    refined_org_signs.append(org_signs[i])\n",
        "  \n",
        "  refined_forg_signs = []\n",
        "  for i in range(len(forg_signs)):\n",
        "    if \"_41_\" in forg_signs[i]:\n",
        "      continue\n",
        "    refined_forg_signs.append(forg_signs[i])\n",
        "  return refined_org_signs, refined_forg_signs\n",
        "\n",
        "def clean_lists(org_signs,forg_signs):\n",
        "  org_signs, forg_signs = get_image_list()\n",
        "  check_lists(org_signs,forg_signs)\n",
        "  org_signs, forg_signs = refine_lists(org_signs,forg_signs)\n",
        "  check_lists(org_signs,forg_signs)\n",
        "  return org_signs, forg_signs"
      ],
      "execution_count": 0,
      "outputs": []
    },
    {
      "cell_type": "code",
      "metadata": {
        "id": "ZvTytxusdcsg",
        "colab_type": "code",
        "colab": {}
      },
      "source": [
        "org_signs, forg_signs = get_image_list()\n",
        "org_signs, forg_signs = clean_lists(org_signs, forg_signs)"
      ],
      "execution_count": 0,
      "outputs": []
    }
  ]
}