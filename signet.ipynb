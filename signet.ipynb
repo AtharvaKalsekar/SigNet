{
  "nbformat": 4,
  "nbformat_minor": 0,
  "metadata": {
    "colab": {
      "name": "signet.ipynb",
      "version": "0.3.2",
      "provenance": [],
      "collapsed_sections": []
    },
    "kernelspec": {
      "name": "python3",
      "display_name": "Python 3"
    },
    "accelerator": "GPU"
  },
  "cells": [
    {
      "cell_type": "code",
      "metadata": {
        "id": "hlTs1b1JEyIN",
        "colab_type": "code",
        "colab": {}
      },
      "source": [
        "# -2\n",
        "# Run this cell to mount your Google Drive.\n",
        "from google.colab import drive\n",
        "drive.mount('/content/drive')"
      ],
      "execution_count": 0,
      "outputs": []
    },
    {
      "cell_type": "code",
      "metadata": {
        "id": "X9QWHel1Tzdx",
        "colab_type": "code",
        "outputId": "036c9ad0-f3b7-44a0-cb5c-246c3b009ec8",
        "colab": {
          "base_uri": "https://localhost:8080/",
          "height": 309
        }
      },
      "source": [
        "# -1\n",
        "!wget -O \"./drive/My Drive/Colab Notebooks/SigNet/signatures.rar\" \"http://www.cedar.buffalo.edu/NIJ/data/signatures.rar\""
      ],
      "execution_count": 0,
      "outputs": [
        {
          "output_type": "stream",
          "text": [
            "--2019-06-29 17:50:53--  http://www.cedar.buffalo.edu/NIJ/data/signatures.rar\n",
            "Resolving www.cedar.buffalo.edu (www.cedar.buffalo.edu)... 128.205.237.100\n",
            "Connecting to www.cedar.buffalo.edu (www.cedar.buffalo.edu)|128.205.237.100|:80... connected.\n",
            "HTTP request sent, awaiting response... 301 Moved Permanently\n",
            "Location: https://cedar.buffalo.edu/NIJ/data/signatures.rar [following]\n",
            "--2019-06-29 17:50:53--  https://cedar.buffalo.edu/NIJ/data/signatures.rar\n",
            "Resolving cedar.buffalo.edu (cedar.buffalo.edu)... 128.205.237.100\n",
            "Connecting to cedar.buffalo.edu (cedar.buffalo.edu)|128.205.237.100|:443... connected.\n",
            "HTTP request sent, awaiting response... 200 OK\n",
            "Length: 253587033 (242M) [text/plain]\n",
            "Saving to: ‘./drive/My Drive/Colab Notebooks/SigNet/signatures.rar’\n",
            "\n",
            "./drive/My Drive/Co 100%[===================>] 241.84M  63.3MB/s    in 4.6s    \n",
            "\n",
            "2019-06-29 17:50:58 (53.0 MB/s) - ‘./drive/My Drive/Colab Notebooks/SigNet/signatures.rar’ saved [253587033/253587033]\n",
            "\n"
          ],
          "name": "stdout"
        }
      ]
    },
    {
      "cell_type": "code",
      "metadata": {
        "id": "GyitYH7aVzZ8",
        "colab_type": "code",
        "outputId": "e800c1d1-82bd-4d89-85e3-45e16c79557a",
        "colab": {
          "base_uri": "https://localhost:8080/",
          "height": 128
        }
      },
      "source": [
        "# 0\n",
        "# Run this cell to mount your Google Drive.\n",
        "from google.colab import drive\n",
        "drive.mount('/content/drive')"
      ],
      "execution_count": 5,
      "outputs": [
        {
          "output_type": "stream",
          "text": [
            "Go to this URL in a browser: https://accounts.google.com/o/oauth2/auth?client_id=947318989803-6bn6qk8qdgf4n4g3pfee6491hc0brc4i.apps.googleusercontent.com&redirect_uri=urn%3Aietf%3Awg%3Aoauth%3A2.0%3Aoob&scope=email%20https%3A%2F%2Fwww.googleapis.com%2Fauth%2Fdocs.test%20https%3A%2F%2Fwww.googleapis.com%2Fauth%2Fdrive%20https%3A%2F%2Fwww.googleapis.com%2Fauth%2Fdrive.photos.readonly%20https%3A%2F%2Fwww.googleapis.com%2Fauth%2Fpeopleapi.readonly&response_type=code\n",
            "\n",
            "Enter your authorization code:\n",
            "··········\n",
            "Mounted at /content/drive\n"
          ],
          "name": "stdout"
        }
      ]
    },
    {
      "cell_type": "code",
      "metadata": {
        "id": "g_YZvaTuWVAp",
        "colab_type": "code",
        "colab": {}
      },
      "source": [
        "import os\n",
        "from natsort import natsorted, ns\n",
        "\n",
        "def get_image_list():\n",
        "  org_signs = os.listdir(\"drive/My Drive/Colab Notebooks/SigNet/signatures/signatures/full_org\")\n",
        "  forg_signs = os.listdir(\"drive/My Drive/Colab Notebooks/SigNet/signatures/signatures/full_forg\")\n",
        "  org_signs = [s for s in org_signs if s.endswith(\".png\")]\n",
        "  forg_signs = [s for s in forg_signs if s.endswith(\".png\")]\n",
        "  org_signs = natsorted(org_signs, alg=ns.IGNORECASE)\n",
        "  forg_signs = natsorted(forg_signs, alg=ns.IGNORECASE)\n",
        "  #org_signs,forg_signs = clean_lists(org_signs,forg_signs)\n",
        "  return org_signs, forg_signs"
      ],
      "execution_count": 0,
      "outputs": []
    },
    {
      "cell_type": "code",
      "metadata": {
        "id": "3FeQ6a85PngV",
        "colab_type": "code",
        "colab": {}
      },
      "source": [
        "# data cleaning\n",
        "def check_lists(org_signs,forg_signs):\n",
        "  flag = False\n",
        "  print(len(org_signs),len(forg_signs))\n",
        "  for i in range(len(org_signs)):\n",
        "    org_ext = org_signs[i][8:]\n",
        "    forg_ext = forg_signs[i][9:]\n",
        "    if org_ext != forg_ext:\n",
        "      flag = True\n",
        "      #print(i,org_ext,forg_ext)\n",
        "  if(flag):\n",
        "    print(\"Mismatches found\")\n",
        "  else:\n",
        "    print(\"No mismatch found\")\n",
        "\n",
        "def refine_lists(org_signs,forg_signs):\n",
        "  refined_org_signs = []\n",
        "  for i in range(len(org_signs)):\n",
        "    if \"_41_\" in org_signs[i]:\n",
        "      continue\n",
        "    refined_org_signs.append(org_signs[i])\n",
        "  \n",
        "  refined_forg_signs = []\n",
        "  for i in range(len(forg_signs)):\n",
        "    if \"_41_\" in forg_signs[i]:\n",
        "      continue\n",
        "    refined_forg_signs.append(forg_signs[i])\n",
        "  return refined_org_signs, refined_forg_signs\n",
        "\n",
        "def get_clean_lists():\n",
        "  org_signs, forg_signs = get_image_list()\n",
        "  check_lists(org_signs,forg_signs)\n",
        "  org_signs, forg_signs = refine_lists(org_signs,forg_signs)\n",
        "  check_lists(org_signs,forg_signs)\n",
        "  return org_signs, forg_signs"
      ],
      "execution_count": 0,
      "outputs": []
    },
    {
      "cell_type": "code",
      "metadata": {
        "id": "ZvTytxusdcsg",
        "colab_type": "code",
        "colab": {}
      },
      "source": [
        "import random\n",
        "import pandas as pd\n",
        "import numpy as np\n",
        "\n",
        "def get_dataframe(org_signs,forg_signs):\n",
        "  no_of_ppl = len(org_signs)//24\n",
        "\n",
        "  raw_data = {\"image_1\":[], \"image_2\":[], \"label\":[]}\n",
        "  for i in range(no_of_ppl):\n",
        "    i1_batch_1 = []\n",
        "    i1_batch_2 = []\n",
        "    i2_batch = []\n",
        "\n",
        "    start = i*24\n",
        "    end = (i+1)*24\n",
        "\n",
        "    for j in range(start,end): \n",
        "      i1_batch_1.append(os.path.join(PATH_ORG,org_signs[j]))\n",
        "      i1_batch_2.append(os.path.join(PATH_ORG,org_signs[j]))\n",
        "      raw_data[\"label\"].append(0)\n",
        "\n",
        "    temp_rot = (i1_batch_1[-12:]+i1_batch_1[:-12])\n",
        "    i1_batch_1.extend(i1_batch_2)\n",
        "\n",
        "    for elem in temp_rot:\n",
        "      i2_batch.append(os.path.join(PATH_ORG,elem))\n",
        "\n",
        "    for j in range(start,end): \n",
        "      i2_batch.append(os.path.join(PATH_FORG,forg_signs[j]))\n",
        "      raw_data[\"label\"].append(1)\n",
        "\n",
        "    raw_data[\"image_1\"].extend(i1_batch_1)\n",
        "    raw_data[\"image_2\"].extend(i2_batch)\n",
        "  print(len(raw_data[\"image_1\"]),len(raw_data[\"image_2\"]),len(raw_data[\"label\"]))\n",
        "  df = pd.DataFrame(raw_data, columns = [\"image_1\",\"image_2\",\"label\"])\n",
        "  df=df.reindex(np.random.permutation(df.index))\n",
        "  return df"
      ],
      "execution_count": 0,
      "outputs": []
    },
    {
      "cell_type": "code",
      "metadata": {
        "id": "aOOwTrfy7E-1",
        "colab_type": "code",
        "colab": {}
      },
      "source": [
        "from sklearn.model_selection import train_test_split\n",
        "import tensorflow as tf\n",
        "\n",
        "def get_dataset(subset=None):\n",
        "  org_signs,forg_signs = get_clean_lists()\n",
        "  df = get_dataframe(org_signs,forg_signs)\n",
        "  train_set, val_set = train_test_split(df,test_size=0.3,random_state=0)\n",
        "  if(subset.lower()==\"train\"):\n",
        "    dataset = train_set\n",
        "  else:\n",
        "    dataset = val_set\n",
        "  image_1 = dataset.image_1.values\n",
        "  image_2 = dataset.image_2.values\n",
        "  label = dataset.label.values\n",
        "  dataset = tf.data.Dataset.from_tensor_slices((image_1,image_2,label))\n",
        "  return dataset"
      ],
      "execution_count": 0,
      "outputs": []
    },
    {
      "cell_type": "code",
      "metadata": {
        "id": "DwhJ1ZvxqeY6",
        "colab_type": "code",
        "colab": {}
      },
      "source": [
        "PATH_ORG = \"drive/My Drive/Colab Notebooks/SigNet/signatures/signatures/full_org\"\n",
        "PATH_FORG = \"drive/My Drive/Colab Notebooks/SigNet/signatures/signatures/full_forg\"\n",
        "\n",
        "def train_input():\n",
        "  dataset = get_dataset(subset=\"train\")\n",
        "  dataset = dataset.shuffle(1814) #train_size = 2592*0.7\n",
        "  dataset = dataset.map((lambda x1,x2,y:get_images(x1,x2,y)),num_parallel_calls=4)\n",
        "  #dataset = dataset.map(standardize_images,num_parallel_calls=4)\n",
        "  #dataset = dataset.map(preprocess_images,num_parallel_calls=4)\n",
        "  dataset = dataset.repeat(100)#num_epochs\n",
        "  dataset = dataset.batch(32)#batch_size\n",
        "  dataset = dataset.prefetch(1)\n",
        "  return dataset\n",
        "\n",
        "def val_input():\n",
        "  dataset = get_dataset(subset=\"val\")\n",
        "  dataset = dataset.map((lambda x1,x2,y:get_images(x1,x2,y)),num_parallel_calls=4)\n",
        "  dataset = dataset.batch(32)#batch_size\n",
        "  dataset = dataset.prefetch(1)\n",
        "  return dataset\n",
        "\n",
        "def get_images(image_1_path,image_2_path,label):\n",
        "  img_ = []\n",
        "  for image_path in [image_1_path,image_2_path]:\n",
        "    image_string = tf.read_file(image_path)\n",
        "    img = tf.image.decode_jpeg(image_string, channels=3)\n",
        "    img = tf.image.convert_image_dtype(img, tf.float32)\n",
        "    img = tf.image.resize_images(img, [155, 220])#ref paper\n",
        "    img_.append(img)\n",
        "  return img_[0],img_[1], label\n",
        "\n",
        "def standardize_images(image_1,image_2,label):\n",
        "  std_img = []\n",
        "  for img in [image_1,image_2]:\n",
        "    mean = np.mean(img,axis=None)\n",
        "    img = img - mean\n",
        "    std = np.std(img)\n",
        "    if(std == 0 or std == np.nan):\n",
        "      std = 1\n",
        "    standardized_img = img/std\n",
        "    std_img.append(standardized_img)\n",
        "  return std_img[0],std_img[1],label"
      ],
      "execution_count": 0,
      "outputs": []
    },
    {
      "cell_type": "code",
      "metadata": {
        "id": "pQSUgueayQpu",
        "colab_type": "code",
        "colab": {
          "base_uri": "https://localhost:8080/",
          "height": 108
        },
        "outputId": "62016343-98e4-40d3-a7d0-63cfcf509e5f"
      },
      "source": [
        "ds = train_input()"
      ],
      "execution_count": 55,
      "outputs": [
        {
          "output_type": "stream",
          "text": [
            "1316 1320\n",
            "Mismatches found\n",
            "1296 1296\n",
            "No mismatch found\n",
            "2592 2592 2592\n"
          ],
          "name": "stdout"
        }
      ]
    },
    {
      "cell_type": "code",
      "metadata": {
        "id": "INaUgzh05W1S",
        "colab_type": "code",
        "colab": {
          "base_uri": "https://localhost:8080/",
          "height": 35
        },
        "outputId": "fe777e4c-4541-456c-ea56-9b7e7a9315de"
      },
      "source": [
        "ds"
      ],
      "execution_count": 57,
      "outputs": [
        {
          "output_type": "execute_result",
          "data": {
            "text/plain": [
              "<DatasetV1Adapter shapes: ((?, 155, 220, 3), (?, 155, 220, 3), (?,)), types: (tf.float32, tf.float32, tf.int64)>"
            ]
          },
          "metadata": {
            "tags": []
          },
          "execution_count": 57
        }
      ]
    }
  ]
}