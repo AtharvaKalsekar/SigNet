{
  "nbformat": 4,
  "nbformat_minor": 0,
  "metadata": {
    "colab": {
      "name": "signet_keras.ipynb",
      "version": "0.3.2",
      "provenance": [],
      "collapsed_sections": []
    },
    "kernelspec": {
      "name": "python3",
      "display_name": "Python 3"
    },
    "accelerator": "GPU"
  },
  "cells": [
    {
      "cell_type": "code",
      "metadata": {
        "id": "dzG3uDDXUpt6",
        "colab_type": "code",
        "outputId": "3401512a-9148-432f-d74a-0f9b0493a0fc",
        "colab": {
          "base_uri": "https://localhost:8080/",
          "height": 122
        }
      },
      "source": [
        "# 0\n",
        "# Run this cell to mount your Google Drive.\n",
        "from google.colab import drive\n",
        "drive.mount('/content/drive')"
      ],
      "execution_count": 0,
      "outputs": [
        {
          "output_type": "stream",
          "text": [
            "Go to this URL in a browser: https://accounts.google.com/o/oauth2/auth?client_id=947318989803-6bn6qk8qdgf4n4g3pfee6491hc0brc4i.apps.googleusercontent.com&redirect_uri=urn%3Aietf%3Awg%3Aoauth%3A2.0%3Aoob&scope=email%20https%3A%2F%2Fwww.googleapis.com%2Fauth%2Fdocs.test%20https%3A%2F%2Fwww.googleapis.com%2Fauth%2Fdrive%20https%3A%2F%2Fwww.googleapis.com%2Fauth%2Fdrive.photos.readonly%20https%3A%2F%2Fwww.googleapis.com%2Fauth%2Fpeopleapi.readonly&response_type=code\n",
            "\n",
            "Enter your authorization code:\n",
            "··········\n",
            "Mounted at /content/drive\n"
          ],
          "name": "stdout"
        }
      ]
    },
    {
      "cell_type": "code",
      "metadata": {
        "id": "L13V8vG_aAW9",
        "colab_type": "code",
        "colab": {}
      },
      "source": [
        "PATH_ORG = \"drive/My Drive/Colab Notebooks/SigNet/signatures/signatures/full_org\"\n",
        "PATH_FORG = \"drive/My Drive/Colab Notebooks/SigNet/signatures/signatures/full_forg\""
      ],
      "execution_count": 0,
      "outputs": []
    },
    {
      "cell_type": "code",
      "metadata": {
        "id": "RkSYqGtiVJzY",
        "colab_type": "code",
        "colab": {}
      },
      "source": [
        "import os\n",
        "from natsort import natsorted, ns\n",
        "\n",
        "def get_image_list():\n",
        "  org_signs = os.listdir(\"drive/My Drive/Colab Notebooks/SigNet/signatures/signatures/full_org\")\n",
        "  forg_signs = os.listdir(\"drive/My Drive/Colab Notebooks/SigNet/signatures/signatures/full_forg\")\n",
        "  org_signs = [s for s in org_signs if s.endswith(\".png\")]\n",
        "  forg_signs = [s for s in forg_signs if s.endswith(\".png\")]\n",
        "  org_signs = natsorted(org_signs, alg=ns.IGNORECASE)\n",
        "  forg_signs = natsorted(forg_signs, alg=ns.IGNORECASE)\n",
        "  return org_signs, forg_signs\n",
        "\n",
        "# data cleaning\n",
        "def check_lists(org_signs,forg_signs):\n",
        "  flag = False\n",
        "  for i in range(len(org_signs)):\n",
        "    org_ext = org_signs[i][8:]\n",
        "    forg_ext = forg_signs[i][9:]\n",
        "    if org_ext != forg_ext:\n",
        "      flag = True\n",
        "      #print(i,org_ext,forg_ext)\n",
        "  '''if(flag):\n",
        "    #print(\"Mismatches found\")\n",
        "  else:\n",
        "    #print(\"No mismatch found\")\n",
        "'''\n",
        "def refine_lists(org_signs,forg_signs):\n",
        "  refined_org_signs = []\n",
        "  for i in range(len(org_signs)):\n",
        "    if \"_41_\" in org_signs[i]:\n",
        "      continue\n",
        "    refined_org_signs.append(org_signs[i])\n",
        "  \n",
        "  refined_forg_signs = []\n",
        "  for i in range(len(forg_signs)):\n",
        "    if \"_41_\" in forg_signs[i]:\n",
        "      continue\n",
        "    refined_forg_signs.append(forg_signs[i])\n",
        "  return refined_org_signs, refined_forg_signs\n",
        "\n",
        "def get_clean_lists():\n",
        "  org_signs, forg_signs = get_image_list()\n",
        "  check_lists(org_signs,forg_signs)\n",
        "  org_signs, forg_signs = refine_lists(org_signs,forg_signs)\n",
        "  #print(len(org_signs),len(forg_signs))\n",
        "  check_lists(org_signs,forg_signs)\n",
        "  return org_signs, forg_signs\n",
        "\n",
        "import random\n",
        "import pandas as pd\n",
        "import numpy as np\n",
        "\n",
        "def get_dataframe(org_signs,forg_signs):\n",
        "  no_of_ppl = len(org_signs)//24\n",
        "\n",
        "  raw_data = {\"image_1\":[], \"image_2\":[], \"label\":[]}\n",
        "  for i in range(no_of_ppl):\n",
        "    i1_batch_1 = []\n",
        "    i1_batch_2 = []\n",
        "    i2_batch = []\n",
        "\n",
        "    start = i*24\n",
        "    end = (i+1)*24\n",
        "\n",
        "    for j in range(start,end): \n",
        "      i1_batch_1.append(os.path.join(PATH_ORG,org_signs[j]))\n",
        "      i1_batch_2.append(os.path.join(PATH_ORG,org_signs[j]))\n",
        "      raw_data[\"label\"].append(1)#0\n",
        "\n",
        "    temp_rot = (i1_batch_1[-12:]+i1_batch_1[:-12])\n",
        "    i1_batch_1.extend(i1_batch_2)\n",
        "\n",
        "    for elem in temp_rot:\n",
        "      i2_batch.append(elem)\n",
        "\n",
        "    for j in range(start,end): \n",
        "      i2_batch.append(os.path.join(PATH_FORG,forg_signs[j]))\n",
        "      raw_data[\"label\"].append(0)#1\n",
        "\n",
        "    raw_data[\"image_1\"].extend(i1_batch_1)\n",
        "    raw_data[\"image_2\"].extend(i2_batch)\n",
        "  df = pd.DataFrame(raw_data, columns = [\"image_1\",\"image_2\",\"label\"])\n",
        "  df=df.reindex(np.random.permutation(df.index))\n",
        "  return df\n",
        "\n",
        "from sklearn.model_selection import train_test_split\n",
        "\n",
        "def get_dataset(subset=None):\n",
        "  org_signs,forg_signs = get_clean_lists()\n",
        "  df = get_dataframe(org_signs,forg_signs)\n",
        "  #print(df.shape)\n",
        "  train_set, val_set = train_test_split(df,test_size=0.3,random_state=0)\n",
        "  if(subset.lower()==\"train\"):\n",
        "    dataset = train_set\n",
        "  else:\n",
        "    dataset = val_set\n",
        "  return dataset"
      ],
      "execution_count": 0,
      "outputs": []
    },
    {
      "cell_type": "code",
      "metadata": {
        "id": "tBLZsJmOaai3",
        "colab_type": "code",
        "outputId": "74f7fccf-80f9-4203-d430-50c1dcea567c",
        "colab": {
          "base_uri": "https://localhost:8080/",
          "height": 34
        }
      },
      "source": [
        "import numpy as np\n",
        "import keras\n",
        "from PIL import Image\n",
        "import cv2\n",
        "\n",
        "class DataGenerator(keras.utils.Sequence):\n",
        "    \n",
        "    def __init__(self, df, batch_size=32, dim=(155,220), n_channels=3, shuffle=True):\n",
        "        self.dim = dim\n",
        "        self.batch_size = batch_size\n",
        "        self.df = df\n",
        "        self.labels = df[\"label\"]\n",
        "        self.n_channels = n_channels\n",
        "        self.shuffle = shuffle\n",
        "        self.on_epoch_end()\n",
        "\n",
        "    def __len__(self):\n",
        "        return int(np.floor(self.df.shape[0] / self.batch_size))\n",
        "\n",
        "    def __getitem__(self, index):\n",
        "        indexes = self.indexes[index*self.batch_size:(index+1)*self.batch_size]\n",
        "        rows = [self.df.iloc[k] for k in indexes]\n",
        "        X, y = self.__data_generation(rows)\n",
        "        return X, y\n",
        "\n",
        "    def on_epoch_end(self):\n",
        "        self.indexes = np.arange(self.df.shape[0])\n",
        "        if self.shuffle == True:\n",
        "            np.random.shuffle(self.indexes)\n",
        "\n",
        "    def __data_generation(self, rows):\n",
        "        x_1 = np.empty((self.batch_size, *self.dim, self.n_channels))\n",
        "        x_2 = np.empty((self.batch_size, *self.dim, self.n_channels))\n",
        "        y = np.empty((self.batch_size), dtype=int)\n",
        "        \n",
        "        for i in range(len(rows)):\n",
        "            image_1 = cv2.imread(rows[i][\"image_1\"])\n",
        "            image_1 = cv2.resize(image_1,(220,155))\n",
        "            image_1 = cv2.bitwise_not(image_1)\n",
        "            image_1=np.array(image_1)\n",
        "            image_2 = cv2.imread(rows[i][\"image_2\"])\n",
        "            image_2 = cv2.resize(image_2,(220,155))\n",
        "            image_2 = cv2.bitwise_not(image_2)\n",
        "            image_2=np.array(image_2)\n",
        "            '''mean_center_1 = image_1 - np.mean(image_1, axis = None)\n",
        "            mean_center_2 = image_2 - np.mean(image_2, axis = None)\n",
        "            \n",
        "            std_1 = np.std(image_1)\n",
        "            std_2 = np.std(image_2)\n",
        "            if(std_1 == 0 or std_1 == np.nan):\n",
        "                std_1 = 1\n",
        "            if(std_2 == 0 or std_2 == np.nan):\n",
        "                std_2 = 1\n",
        "            standardized_img_1 = image_1/std_1\n",
        "            standardized_img_2 = image_2/std_2\n",
        "            '''\n",
        "            x_1[i,] = image_1/255\n",
        "            x_2[i,] = image_2/255\n",
        "            y[i] = rows[i][\"label\"]\n",
        "\n",
        "\n",
        "        return [x_1, x_2], y"
      ],
      "execution_count": 0,
      "outputs": [
        {
          "output_type": "stream",
          "text": [
            "Using TensorFlow backend.\n"
          ],
          "name": "stderr"
        }
      ]
    },
    {
      "cell_type": "code",
      "metadata": {
        "id": "1oCcDpZhxAfq",
        "colab_type": "code",
        "colab": {}
      },
      "source": [
        "from keras import models\n",
        "from keras.layers import Conv2D, MaxPooling2D, Dense, Activation, BatchNormalization, Input, Dropout, Flatten\n",
        "from keras.models import Model\n",
        "\n",
        "def get_base_net():\n",
        "  input = Input(shape=(155,220,3))\n",
        "  \n",
        "  conv_1 = Conv2D(filters=96, kernel_size=(11,11))(input)\n",
        "  batch_norm_1 = BatchNormalization()(conv_1)\n",
        "  activation_1 = Activation('relu')(batch_norm_1)\n",
        "  max_pool_1 = MaxPooling2D(pool_size=(3,3))(activation_1)\n",
        "  \n",
        "  conv_2 = Conv2D(filters=256, kernel_size=(5,5))(max_pool_1)\n",
        "  batch_norm_2 = BatchNormalization()(conv_2)\n",
        "  activation_2 = Activation('relu')(batch_norm_2)\n",
        "  max_pool_2 = MaxPooling2D(pool_size=(3,3))(activation_1)\n",
        "  \n",
        "  dropout_1 = Dropout(rate=0.3)(max_pool_2)\n",
        "  \n",
        "  conv_3_a = Conv2D(filters=384, kernel_size=(3,3))(dropout_1)\n",
        "  activation_3_a = Activation('relu')(conv_3_a)\n",
        "  conv_3_b = Conv2D(filters=256, kernel_size=(3,3))(activation_3_a)\n",
        "  activation_3_b = Activation('relu')(conv_3_b)\n",
        "  max_pool_3 = MaxPooling2D(pool_size=(3,3))(activation_3_b)\n",
        "  \n",
        "  dropout_2 = Dropout(rate=0.3)(max_pool_3)\n",
        "  \n",
        "  flat_1 = Flatten()(dropout_2)\n",
        "  fc_1 = Dense(units=1024,activation='relu')(flat_1)\n",
        "  dropout_3 = Dropout(rate=0.5)(fc_1)\n",
        "  fc_2 = Dense(units=128,activation='relu')(dropout_3)\n",
        "  return Model(input,fc_2)"
      ],
      "execution_count": 0,
      "outputs": []
    },
    {
      "cell_type": "code",
      "metadata": {
        "id": "akHC-9pD_QJb",
        "colab_type": "code",
        "colab": {}
      },
      "source": [
        "from keras import backend as K\n",
        "\n",
        "def euclidean_distance(vects):\n",
        "    x, y = vects\n",
        "    sum_square = K.sum(K.square(x - y), axis=1, keepdims=True)\n",
        "    return K.sqrt(K.maximum(sum_square, K.epsilon()))\n",
        "\n",
        "\n",
        "def eucl_dist_output_shape(shapes):\n",
        "    shape1, shape2 = shapes\n",
        "    return (shape1[0], 1)\n"
      ],
      "execution_count": 0,
      "outputs": []
    },
    {
      "cell_type": "code",
      "metadata": {
        "id": "r-WsFbXsBKqY",
        "colab_type": "code",
        "colab": {}
      },
      "source": [
        "def contrastive_loss(y_true, y_pred):\n",
        "    margin = 1\n",
        "    #print(\"y_pred\",y_pred)\n",
        "    sqaure_pred = K.square(y_pred)\n",
        "    margin_square = K.square(K.maximum(margin - y_pred, 0))\n",
        "    return K.mean(y_true * sqaure_pred + (1 - y_true)* margin_square)\n",
        "  \n",
        "def accuracy(y_true, y_pred):\n",
        "    return K.mean(K.equal(y_true, K.cast(y_pred < 0.5, y_true.dtype)))"
      ],
      "execution_count": 0,
      "outputs": []
    },
    {
      "cell_type": "code",
      "metadata": {
        "id": "vnmcc7oJ8d3c",
        "colab_type": "code",
        "colab": {}
      },
      "source": [
        "from keras.layers import Lambda\n",
        "\n",
        "input_a = Input(shape=(155,220,3))\n",
        "input_b = Input(shape=(155,220,3))\n",
        "\n",
        "base_net = get_base_net()\n",
        "processed_a = base_net(input_a)\n",
        "processed_b = base_net(input_b)\n",
        "\n",
        "distance = Lambda(euclidean_distance,output_shape=eucl_dist_output_shape)([processed_a, processed_b])\n",
        "model = Model([input_a, input_b], distance)"
      ],
      "execution_count": 0,
      "outputs": []
    },
    {
      "cell_type": "code",
      "metadata": {
        "id": "nnuE0iNfC-Ae",
        "colab_type": "code",
        "colab": {}
      },
      "source": [
        "from keras import optimizers\n",
        "optimizer = optimizers.RMSprop()\n",
        "model.compile(loss=contrastive_loss, optimizer=optimizer, metrics=[accuracy])"
      ],
      "execution_count": 0,
      "outputs": []
    },
    {
      "cell_type": "code",
      "metadata": {
        "id": "AbZWL9zuuRxU",
        "colab_type": "code",
        "colab": {}
      },
      "source": [
        "params={\n",
        "    'dim': (155,220),\n",
        "    'batch_size': 32,\n",
        "    'n_channels': 3,\n",
        "    'shuffle': False\n",
        "}\n",
        "\n",
        "#train_set = 2592*0.7 = 1814 == 1814/32 == 56\n",
        "#val_set = 2592*0.3 = 777 == 777/32 == 24\n",
        "ds_train = get_dataset(\"train\")\n",
        "ds_val = get_dataset(\"val\")\n",
        "train_datagen = DataGenerator(ds_train,**params)\n",
        "validation_datagen = DataGenerator(ds_val,**params)\n",
        "model.fit_generator(generator=train_datagen, validation_data=validation_datagen, epochs=30, steps_per_epoch=56, validation_steps=24, use_multiprocessing=True, workers=6)"
      ],
      "execution_count": 0,
      "outputs": []
    },
    {
      "cell_type": "code",
      "metadata": {
        "id": "yoXaSfoBvJxr",
        "colab_type": "code",
        "colab": {}
      },
      "source": [
        "'''\n",
        "last step of training :\n",
        "Epoch 30/30\n",
        "56/56 [==============================] - 61s 1s/step - loss: 0.3110 - accuracy: 0.8142 - val_loss: 0.0254 - val_accuracy: 0.9753\n",
        "<keras.callbacks.History at 0x7f4ccc806eb8>\n",
        "'''\n",
        "model.save(\"drive/My Drive/Colab Notebooks/SigNet/colab_08072019.h5\")"
      ],
      "execution_count": 0,
      "outputs": []
    },
    {
      "cell_type": "code",
      "metadata": {
        "id": "FOPbB5jyrklA",
        "colab_type": "code",
        "colab": {}
      },
      "source": [
        "from keras.models import load_model\n",
        "\n",
        "mod = load_model('./drive/My Drive/Colab Notebooks/SigNet/colab_08072019.h5',custom_objects={'contrastive_loss':contrastive_loss})\n",
        "im_1 = cv2.imread(\"drive/My Drive/Colab Notebooks/SigNet/signatures/signatures/full_org/original_13_1.png\")\n",
        "im_2 = cv2.imread(\"drive/My Drive/Colab Notebooks/SigNet/signatures/signatures/full_org/original_13_13.png\")  \n",
        "im_1 = cv2.resize(im_1,(220,155))\n",
        "im_2 = cv2.resize(im_2,(220,155))\n",
        "im_1 = cv2.bitwise_not(im_1)\n",
        "im_2 = cv2.bitwise_not(im_2)\n",
        "im_1 = im_1/255\n",
        "im_2 = im_2/255\n",
        "im_1 = np.expand_dims(im_1,axis=0)\n",
        "im_2 = np.expand_dims(im_2,axis=0)\n",
        "y_pred = mod.predict([im_1,im_2])"
      ],
      "execution_count": 0,
      "outputs": []
    }
  ]
}