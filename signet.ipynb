{
  "nbformat": 4,
  "nbformat_minor": 0,
  "metadata": {
    "colab": {
      "name": "signet.ipynb",
      "version": "0.3.2",
      "provenance": [],
      "collapsed_sections": []
    },
    "kernelspec": {
      "name": "python3",
      "display_name": "Python 3"
    },
    "accelerator": "GPU"
  },
  "cells": [
    {
      "cell_type": "code",
      "metadata": {
        "id": "hlTs1b1JEyIN",
        "colab_type": "code",
        "colab": {}
      },
      "source": [
        "# -2\n",
        "# Run this cell to mount your Google Drive.\n",
        "from google.colab import drive\n",
        "drive.mount('/content/drive')"
      ],
      "execution_count": 0,
      "outputs": []
    },
    {
      "cell_type": "code",
      "metadata": {
        "id": "X9QWHel1Tzdx",
        "colab_type": "code",
        "outputId": "036c9ad0-f3b7-44a0-cb5c-246c3b009ec8",
        "colab": {
          "base_uri": "https://localhost:8080/",
          "height": 309
        }
      },
      "source": [
        "# -1\n",
        "!wget -O \"./drive/My Drive/Colab Notebooks/SigNet/signatures.rar\" \"http://www.cedar.buffalo.edu/NIJ/data/signatures.rar\""
      ],
      "execution_count": 0,
      "outputs": [
        {
          "output_type": "stream",
          "text": [
            "--2019-06-29 17:50:53--  http://www.cedar.buffalo.edu/NIJ/data/signatures.rar\n",
            "Resolving www.cedar.buffalo.edu (www.cedar.buffalo.edu)... 128.205.237.100\n",
            "Connecting to www.cedar.buffalo.edu (www.cedar.buffalo.edu)|128.205.237.100|:80... connected.\n",
            "HTTP request sent, awaiting response... 301 Moved Permanently\n",
            "Location: https://cedar.buffalo.edu/NIJ/data/signatures.rar [following]\n",
            "--2019-06-29 17:50:53--  https://cedar.buffalo.edu/NIJ/data/signatures.rar\n",
            "Resolving cedar.buffalo.edu (cedar.buffalo.edu)... 128.205.237.100\n",
            "Connecting to cedar.buffalo.edu (cedar.buffalo.edu)|128.205.237.100|:443... connected.\n",
            "HTTP request sent, awaiting response... 200 OK\n",
            "Length: 253587033 (242M) [text/plain]\n",
            "Saving to: ‘./drive/My Drive/Colab Notebooks/SigNet/signatures.rar’\n",
            "\n",
            "./drive/My Drive/Co 100%[===================>] 241.84M  63.3MB/s    in 4.6s    \n",
            "\n",
            "2019-06-29 17:50:58 (53.0 MB/s) - ‘./drive/My Drive/Colab Notebooks/SigNet/signatures.rar’ saved [253587033/253587033]\n",
            "\n"
          ],
          "name": "stdout"
        }
      ]
    },
    {
      "cell_type": "code",
      "metadata": {
        "id": "GyitYH7aVzZ8",
        "colab_type": "code",
        "outputId": "72a492b0-5582-4f89-a8a9-4d812a103270",
        "colab": {
          "base_uri": "https://localhost:8080/",
          "height": 122
        }
      },
      "source": [
        "# 0\n",
        "# Run this cell to mount your Google Drive.\n",
        "from google.colab import drive\n",
        "drive.mount('/content/drive')"
      ],
      "execution_count": 0,
      "outputs": [
        {
          "output_type": "stream",
          "text": [
            "Go to this URL in a browser: https://accounts.google.com/o/oauth2/auth?client_id=947318989803-6bn6qk8qdgf4n4g3pfee6491hc0brc4i.apps.googleusercontent.com&redirect_uri=urn%3Aietf%3Awg%3Aoauth%3A2.0%3Aoob&scope=email%20https%3A%2F%2Fwww.googleapis.com%2Fauth%2Fdocs.test%20https%3A%2F%2Fwww.googleapis.com%2Fauth%2Fdrive%20https%3A%2F%2Fwww.googleapis.com%2Fauth%2Fdrive.photos.readonly%20https%3A%2F%2Fwww.googleapis.com%2Fauth%2Fpeopleapi.readonly&response_type=code\n",
            "\n",
            "Enter your authorization code:\n",
            "··········\n",
            "Mounted at /content/drive\n"
          ],
          "name": "stdout"
        }
      ]
    },
    {
      "cell_type": "code",
      "metadata": {
        "id": "g_YZvaTuWVAp",
        "colab_type": "code",
        "colab": {}
      },
      "source": [
        "import os\n",
        "from natsort import natsorted, ns\n",
        "\n",
        "def get_image_list():\n",
        "  org_signs = os.listdir(\"drive/My Drive/Colab Notebooks/SigNet/signatures/signatures/full_org\")\n",
        "  forg_signs = os.listdir(\"drive/My Drive/Colab Notebooks/SigNet/signatures/signatures/full_forg\")\n",
        "  org_signs = [s for s in org_signs if s.endswith(\".png\")]\n",
        "  forg_signs = [s for s in forg_signs if s.endswith(\".png\")]\n",
        "  org_signs = natsorted(org_signs, alg=ns.IGNORECASE)\n",
        "  forg_signs = natsorted(forg_signs, alg=ns.IGNORECASE)\n",
        "  #org_signs,forg_signs = clean_lists(org_signs,forg_signs)\n",
        "  return org_signs, forg_signs"
      ],
      "execution_count": 0,
      "outputs": []
    },
    {
      "cell_type": "code",
      "metadata": {
        "id": "3FeQ6a85PngV",
        "colab_type": "code",
        "colab": {}
      },
      "source": [
        "# data cleaning\n",
        "def check_lists(org_signs,forg_signs):\n",
        "  flag = False\n",
        "  print(len(org_signs),len(forg_signs))\n",
        "  for i in range(len(org_signs)):\n",
        "    org_ext = org_signs[i][8:]\n",
        "    forg_ext = forg_signs[i][9:]\n",
        "    if org_ext != forg_ext:\n",
        "      flag = True\n",
        "      #print(i,org_ext,forg_ext)\n",
        "  if(flag):\n",
        "    print(\"Mismatches found\")\n",
        "  else:\n",
        "    print(\"No mismatch found\")\n",
        "\n",
        "def refine_lists(org_signs,forg_signs):\n",
        "  refined_org_signs = []\n",
        "  for i in range(len(org_signs)):\n",
        "    if \"_41_\" in org_signs[i]:\n",
        "      continue\n",
        "    refined_org_signs.append(org_signs[i])\n",
        "  \n",
        "  refined_forg_signs = []\n",
        "  for i in range(len(forg_signs)):\n",
        "    if \"_41_\" in forg_signs[i]:\n",
        "      continue\n",
        "    refined_forg_signs.append(forg_signs[i])\n",
        "  return refined_org_signs, refined_forg_signs\n",
        "\n",
        "def get_clean_lists():\n",
        "  org_signs, forg_signs = get_image_list()\n",
        "  check_lists(org_signs,forg_signs)\n",
        "  org_signs, forg_signs = refine_lists(org_signs,forg_signs)\n",
        "  check_lists(org_signs,forg_signs)\n",
        "  return org_signs, forg_signs"
      ],
      "execution_count": 0,
      "outputs": []
    },
    {
      "cell_type": "code",
      "metadata": {
        "id": "ZvTytxusdcsg",
        "colab_type": "code",
        "colab": {}
      },
      "source": [
        "import random\n",
        "import pandas as pd\n",
        "import numpy as np\n",
        "\n",
        "def get_dataframe(org_signs,forg_signs):\n",
        "  no_of_ppl = len(org_signs)//24\n",
        "\n",
        "  raw_data = {\"image_1\":[], \"image_2\":[], \"label\":[]}\n",
        "  for i in range(no_of_ppl):\n",
        "    i1_batch_1 = []\n",
        "    i1_batch_2 = []\n",
        "    i2_batch = []\n",
        "\n",
        "    start = i*24\n",
        "    end = (i+1)*24\n",
        "\n",
        "    for j in range(start,end): \n",
        "      i1_batch_1.append(os.path.join(PATH_ORG,org_signs[j]))\n",
        "      i1_batch_2.append(os.path.join(PATH_ORG,org_signs[j]))\n",
        "      raw_data[\"label\"].append(0)\n",
        "\n",
        "    temp_rot = (i1_batch_1[-12:]+i1_batch_1[:-12])\n",
        "    i1_batch_1.extend(i1_batch_2)\n",
        "\n",
        "    for elem in temp_rot:\n",
        "      i2_batch.append(elem)\n",
        "\n",
        "    for j in range(start,end): \n",
        "      i2_batch.append(os.path.join(PATH_FORG,forg_signs[j]))\n",
        "      raw_data[\"label\"].append(1)\n",
        "\n",
        "    raw_data[\"image_1\"].extend(i1_batch_1)\n",
        "    raw_data[\"image_2\"].extend(i2_batch)\n",
        "  print(len(raw_data[\"image_1\"]),len(raw_data[\"image_2\"]),len(raw_data[\"label\"]))\n",
        "  df = pd.DataFrame(raw_data, columns = [\"image_1\",\"image_2\",\"label\"])\n",
        "  df=df.reindex(np.random.permutation(df.index))\n",
        "  return df"
      ],
      "execution_count": 0,
      "outputs": []
    },
    {
      "cell_type": "code",
      "metadata": {
        "id": "aOOwTrfy7E-1",
        "colab_type": "code",
        "colab": {}
      },
      "source": [
        "from sklearn.model_selection import train_test_split\n",
        "import tensorflow as tf\n",
        "\n",
        "def get_dataset(subset=None):\n",
        "  org_signs,forg_signs = get_clean_lists()\n",
        "  df = get_dataframe(org_signs,forg_signs)\n",
        "  train_set, val_set = train_test_split(df,test_size=0.3,random_state=0)\n",
        "  if(subset.lower()==\"train\"):\n",
        "    dataset = train_set\n",
        "  else:\n",
        "    dataset = val_set\n",
        "  #return dataset\n",
        "  image_1 = dataset.image_1.values\n",
        "  image_2 = dataset.image_2.values\n",
        "  label = dataset.label.values\n",
        "  features = {'image_1':image_1, 'image_2':image_2}\n",
        "  dataset = tf.data.Dataset.from_tensor_slices((dict(features),label))\n",
        "  return dataset"
      ],
      "execution_count": 0,
      "outputs": []
    },
    {
      "cell_type": "code",
      "metadata": {
        "id": "DwhJ1ZvxqeY6",
        "colab_type": "code",
        "colab": {}
      },
      "source": [
        "PATH_ORG = \"drive/My Drive/Colab Notebooks/SigNet/signatures/signatures/full_org\"\n",
        "PATH_FORG = \"drive/My Drive/Colab Notebooks/SigNet/signatures/signatures/full_forg\"\n",
        "\n",
        "def train_input():\n",
        "  dataset = get_dataset(subset=\"train\")\n",
        "  dataset = dataset.shuffle(1814) #train_size = 2592*0.7\n",
        "  dataset = dataset.map((lambda x,y:get_images(x,y)),num_parallel_calls=4)\n",
        "  #dataset = dataset.map(standardize_images,num_parallel_calls=4)\n",
        "  #dataset = dataset.map(preprocess_images,num_parallel_calls=4)\n",
        "  dataset = dataset.repeat(100)#num_epochs\n",
        "  dataset = dataset.batch(32)#batch_size\n",
        "  dataset = dataset.prefetch(1)\n",
        "  #print(dataset)\n",
        "  return dataset\n",
        "\n",
        "def val_input():\n",
        "  dataset = get_dataset(subset=\"val\")\n",
        "  dataset = dataset.map((lambda x1,x2,y:get_images(x1,x2,y)),num_parallel_calls=4)\n",
        "  dataset = dataset.batch(32)#batch_size\n",
        "  dataset = dataset.prefetch(1)\n",
        "  return dataset\n",
        "\n",
        "def get_images(features,label):\n",
        "  img_ = []\n",
        "  for image_path in [features['image_1'],features['image_2']]:\n",
        "    image_string = tf.read_file(image_path)\n",
        "    img = tf.image.decode_jpeg(image_string, channels=3)\n",
        "    img = tf.image.convert_image_dtype(img, tf.float32)\n",
        "    img = tf.image.resize_images(img, [155, 220])#ref paper\n",
        "    img_.append(img)\n",
        "  feats = {'image_1':img_[0],'image_2':img_[1]}\n",
        "  return feats, label\n",
        "\n",
        "def standardize_images(image_1,image_2,label):\n",
        "  std_img = []\n",
        "  for img in [image_1,image_2]:\n",
        "    mean = np.mean(img,axis=None)\n",
        "    img = img - mean\n",
        "    std = np.std(img)\n",
        "    if(std == 0 or std == np.nan):\n",
        "      std = 1\n",
        "    standardized_img = img/std\n",
        "    std_img.append(standardized_img)\n",
        "  return std_img[0],std_img[1],label"
      ],
      "execution_count": 0,
      "outputs": []
    },
    {
      "cell_type": "code",
      "metadata": {
        "id": "P-I-Pjf-nLcQ",
        "colab_type": "code",
        "outputId": "4ffec173-cfca-4a8c-fcc2-e76190168f41",
        "colab": {
          "base_uri": "https://localhost:8080/",
          "height": 102
        }
      },
      "source": [
        "ds = get_dataset(\"train\")"
      ],
      "execution_count": 0,
      "outputs": [
        {
          "output_type": "stream",
          "text": [
            "1316 1320\n",
            "Mismatches found\n",
            "1296 1296\n",
            "No mismatch found\n",
            "2592 2592 2592\n"
          ],
          "name": "stdout"
        }
      ]
    },
    {
      "cell_type": "code",
      "metadata": {
        "id": "I4134oLfnQhJ",
        "colab_type": "code",
        "outputId": "04286249-6003-4afa-c25b-375665de6011",
        "colab": {
          "base_uri": "https://localhost:8080/",
          "height": 34
        }
      },
      "source": [
        "ds['image_2'].iloc[10]"
      ],
      "execution_count": 0,
      "outputs": [
        {
          "output_type": "execute_result",
          "data": {
            "text/plain": [
              "'drive/My Drive/Colab Notebooks/SigNet/signatures/signatures/full_org/original_55_18.png'"
            ]
          },
          "metadata": {
            "tags": []
          },
          "execution_count": 63
        }
      ]
    },
    {
      "cell_type": "code",
      "metadata": {
        "id": "s7u1poKkb7hD",
        "colab_type": "code",
        "colab": {}
      },
      "source": [
        "import tensorflow as tf"
      ],
      "execution_count": 0,
      "outputs": []
    },
    {
      "cell_type": "code",
      "metadata": {
        "id": "pQSUgueayQpu",
        "colab_type": "code",
        "colab": {}
      },
      "source": [
        "def build_model(image,mode):\n",
        "  inp = image\n",
        "  \n",
        "  conv_1 = tf.layers.conv2d(inputs=inp, filters=96, kernel_size=[11,11], padding=\"SAME\", activation=tf.nn.relu)\n",
        "  batch_norm_1 = tf.layers.batch_normalization(inputs=conv_1)\n",
        "  max_pool_1 = tf.layers.max_pooling2d(inputs=batch_norm_1, pool_size=[3,3], strides=2)\n",
        "  \n",
        "  conv_2 = tf.layers.conv2d(inputs=max_pool_1, filters=256, kernel_size=[5,5], padding=\"SAME\", activation=tf.nn.relu)\n",
        "  batch_norm_2 = tf.layers.batch_normalization(inputs=conv_2)\n",
        "  max_pool_2 = tf.layers.max_pooling2d(inputs=batch_norm_2, pool_size=[3,3], strides=2)\n",
        "  \n",
        "  dropout_1 = tf.layers.dropout(inputs=max_pool_2, rate=0.3)\n",
        "  \n",
        "  conv_3_a = tf.layers.conv2d(inputs=dropout_1, filters=384, kernel_size=[3,3], padding=\"SAME\", activation=tf.nn.relu)\n",
        "  conv_3_b = tf.layers.conv2d(inputs=conv_3_a, filters=256, kernel_size=[3,3], padding=\"SAME\", activation=tf.nn.relu)\n",
        "  max_pool_3 = tf.layers.max_pooling2d(inputs=conv_3_b, pool_size=[3,3], strides=2)\n",
        "  \n",
        "  dropout_2 = tf.layers.dropout(inputs=max_pool_3, rate=0.3)\n",
        "  \n",
        "  flat = tf.layers.flatten(inputs=dropout_2)\n",
        "  \n",
        "  fc_1 = tf.layers.dense(inputs=flat,units=1024,activation=tf.nn.relu)\n",
        "  dropout_3 = tf.layers.dropout(inputs=fc_1, rate=0.5)\n",
        "  fc_2 = tf.layers.dense(inputs=dropout_3,units=128,activation=tf.nn.relu)\n",
        "  \n",
        "  return fc_2"
      ],
      "execution_count": 0,
      "outputs": []
    },
    {
      "cell_type": "code",
      "metadata": {
        "id": "IS1I3XCDFAzU",
        "colab_type": "code",
        "colab": {}
      },
      "source": [
        "def get_loss(encoding_1,encoding_2,labels):\n",
        "  d = tf.reduce_sum(tf.square(encoding_1-encoding_2),1)\n",
        "  d_sqrt = tf.sqrt(d)\n",
        "  labels = tf.cast(labels,dtype=tf.float32)\n",
        "  loss = labels*tf.square(tf.maximum(0., 1 - d_sqrt)) + (1 - labels)*d\n",
        "  loss = 0.5*tf.reduce_mean(loss)\n",
        "  return loss\n",
        "\n",
        "def get_pred(encoding_1,encoding_2):\n",
        "  s = tf.square(encoding_1-encoding_2)\n",
        "  s_sqrt = tf.sqrt(s)\n",
        "  print(s_sqrt)\n",
        "  th = tf.reduce_mean(s_sqrt,1)\n",
        "  #thresh = tf.fill(dims=[128],value=th)\n",
        "  thresh = tf.constant(th,shape=(-1,128),dtype=tf.float32)\n",
        "  preds = tf.math.less(s_sqrt,thresh)\n",
        "  return preds\n",
        "\n",
        "def build_fn(features,labels,mode,params):\n",
        "  encoding_1 = build_model(features[\"image_1\"],mode)\n",
        "  encoding_2 = build_model(features[\"image_2\"],mode)\n",
        "  loss = get_loss(encoding_1,encoding_2,labels)\n",
        "  \n",
        "  #predicted_label = get_pred(encoding_1,encoding_2)\n",
        "  #correct_prediction=tf.equal(labels, tf.argmax(predicted_label,axis=1))\n",
        "  #accuracy=tf.reduce_mean(tf.cast(correct_prediction, tf.float32))\n",
        "  #logging_hook = tf.train.LoggingTensorHook({\"loss\":loss,\"accuracy\":accuracy},every_n_iter=10)\n",
        "  \n",
        "  if mode == tf.estimator.ModeKeys.TRAIN:\n",
        "  \n",
        "    optimizer = tf.train.AdamOptimizer(learning_rate=1e-2)#tf.train.AdadeltaOptimizer(learning_rate=0.01)\n",
        "    train_step = optimizer.minimize(loss,global_step=tf.train.get_global_step())\n",
        "    return tf.estimator.EstimatorSpec(mode=mode, loss=loss, train_op=train_step)#, training_hooks = [logging_hook])\n",
        "  "
      ],
      "execution_count": 0,
      "outputs": []
    },
    {
      "cell_type": "code",
      "metadata": {
        "id": "abdafOFKf87U",
        "colab_type": "code",
        "colab": {
          "base_uri": "https://localhost:8080/",
          "height": 649
        },
        "outputId": "26b25948-b881-47d4-c9ba-5069ab85dd86"
      },
      "source": [
        "estimator = tf.estimator.Estimator(model_fn=build_fn)\n",
        "estimator.train(input_fn=(lambda :train_input()),steps=10)"
      ],
      "execution_count": 10,
      "outputs": [
        {
          "output_type": "stream",
          "text": [
            "WARNING: Logging before flag parsing goes to stderr.\n",
            "W0705 19:44:00.329787 140102238279552 estimator.py:1811] Using temporary folder as model directory: /tmp/tmpy0u5pskj\n",
            "W0705 19:44:00.333519 140102238279552 model_fn.py:630] Estimator's model_fn (<function build_fn at 0x7f6bc66ed510>) includes params argument, but params are not passed to Estimator.\n",
            "W0705 19:44:00.357815 140102238279552 deprecation.py:323] From /usr/local/lib/python3.6/dist-packages/tensorflow/python/training/training_util.py:236: Variable.initialized_value (from tensorflow.python.ops.variables) is deprecated and will be removed in a future version.\n",
            "Instructions for updating:\n",
            "Use Variable.read_value. Variables in 2.X are initialized automatically both in eager and graph (inside tf.defun) contexts.\n",
            "W0705 19:44:00.489969 140102238279552 deprecation.py:323] From <ipython-input-8-b25286128642>:4: conv2d (from tensorflow.python.layers.convolutional) is deprecated and will be removed in a future version.\n",
            "Instructions for updating:\n",
            "Use `tf.keras.layers.Conv2D` instead.\n",
            "W0705 19:44:00.493754 140102238279552 deprecation.py:506] From /usr/local/lib/python3.6/dist-packages/tensorflow/python/ops/init_ops.py:1251: calling VarianceScaling.__init__ (from tensorflow.python.ops.init_ops) with dtype is deprecated and will be removed in a future version.\n",
            "Instructions for updating:\n",
            "Call initializer instance with the dtype argument instead of passing it to the constructor\n"
          ],
          "name": "stderr"
        },
        {
          "output_type": "stream",
          "text": [
            "1316 1320\n",
            "Mismatches found\n",
            "1296 1296\n",
            "No mismatch found\n",
            "2592 2592 2592\n"
          ],
          "name": "stdout"
        },
        {
          "output_type": "stream",
          "text": [
            "W0705 19:44:00.706157 140102238279552 deprecation.py:323] From <ipython-input-8-b25286128642>:5: batch_normalization (from tensorflow.python.layers.normalization) is deprecated and will be removed in a future version.\n",
            "Instructions for updating:\n",
            "Use keras.layers.BatchNormalization instead.  In particular, `tf.control_dependencies(tf.GraphKeys.UPDATE_OPS)` should not be used (consult the `tf.keras.layers.batch_normalization` documentation).\n",
            "W0705 19:44:00.775440 140102238279552 deprecation.py:323] From <ipython-input-8-b25286128642>:6: max_pooling2d (from tensorflow.python.layers.pooling) is deprecated and will be removed in a future version.\n",
            "Instructions for updating:\n",
            "Use keras.layers.MaxPooling2D instead.\n",
            "W0705 19:44:00.938554 140102238279552 deprecation.py:323] From <ipython-input-8-b25286128642>:12: dropout (from tensorflow.python.layers.core) is deprecated and will be removed in a future version.\n",
            "Instructions for updating:\n",
            "Use keras.layers.dropout instead.\n",
            "W0705 19:44:01.023824 140102238279552 deprecation.py:323] From <ipython-input-8-b25286128642>:20: flatten (from tensorflow.python.layers.core) is deprecated and will be removed in a future version.\n",
            "Instructions for updating:\n",
            "Use keras.layers.flatten instead.\n",
            "W0705 19:44:01.247936 140102238279552 deprecation.py:323] From <ipython-input-8-b25286128642>:22: dense (from tensorflow.python.layers.core) is deprecated and will be removed in a future version.\n",
            "Instructions for updating:\n",
            "Use keras.layers.dense instead.\n",
            "W0705 19:44:01.769009 140102238279552 deprecation.py:323] From /usr/local/lib/python3.6/dist-packages/tensorflow/python/ops/math_grad.py:1250: add_dispatch_support.<locals>.wrapper (from tensorflow.python.ops.array_ops) is deprecated and will be removed in a future version.\n",
            "Instructions for updating:\n",
            "Use tf.where in 2.0, which has the same broadcast rule as np.where\n"
          ],
          "name": "stderr"
        },
        {
          "output_type": "execute_result",
          "data": {
            "text/plain": [
              "<tensorflow_estimator.python.estimator.estimator.Estimator at 0x7f6bc6692128>"
            ]
          },
          "metadata": {
            "tags": []
          },
          "execution_count": 10
        }
      ]
    }
  ]
}