{
  "nbformat": 4,
  "nbformat_minor": 0,
  "metadata": {
    "colab": {
      "name": "signet.ipynb",
      "version": "0.3.2",
      "provenance": [],
      "collapsed_sections": []
    },
    "kernelspec": {
      "name": "python3",
      "display_name": "Python 3"
    },
    "accelerator": "GPU"
  },
  "cells": [
    {
      "cell_type": "code",
      "metadata": {
        "id": "hlTs1b1JEyIN",
        "colab_type": "code",
        "colab": {}
      },
      "source": [
        "# -2\n",
        "# Run this cell to mount your Google Drive.\n",
        "from google.colab import drive\n",
        "drive.mount('/content/drive')"
      ],
      "execution_count": 0,
      "outputs": []
    },
    {
      "cell_type": "code",
      "metadata": {
        "id": "X9QWHel1Tzdx",
        "colab_type": "code",
        "outputId": "036c9ad0-f3b7-44a0-cb5c-246c3b009ec8",
        "colab": {
          "base_uri": "https://localhost:8080/",
          "height": 309
        }
      },
      "source": [
        "# -1\n",
        "!wget -O \"./drive/My Drive/Colab Notebooks/SigNet/signatures.rar\" \"http://www.cedar.buffalo.edu/NIJ/data/signatures.rar\""
      ],
      "execution_count": 0,
      "outputs": [
        {
          "output_type": "stream",
          "text": [
            "--2019-06-29 17:50:53--  http://www.cedar.buffalo.edu/NIJ/data/signatures.rar\n",
            "Resolving www.cedar.buffalo.edu (www.cedar.buffalo.edu)... 128.205.237.100\n",
            "Connecting to www.cedar.buffalo.edu (www.cedar.buffalo.edu)|128.205.237.100|:80... connected.\n",
            "HTTP request sent, awaiting response... 301 Moved Permanently\n",
            "Location: https://cedar.buffalo.edu/NIJ/data/signatures.rar [following]\n",
            "--2019-06-29 17:50:53--  https://cedar.buffalo.edu/NIJ/data/signatures.rar\n",
            "Resolving cedar.buffalo.edu (cedar.buffalo.edu)... 128.205.237.100\n",
            "Connecting to cedar.buffalo.edu (cedar.buffalo.edu)|128.205.237.100|:443... connected.\n",
            "HTTP request sent, awaiting response... 200 OK\n",
            "Length: 253587033 (242M) [text/plain]\n",
            "Saving to: ‘./drive/My Drive/Colab Notebooks/SigNet/signatures.rar’\n",
            "\n",
            "./drive/My Drive/Co 100%[===================>] 241.84M  63.3MB/s    in 4.6s    \n",
            "\n",
            "2019-06-29 17:50:58 (53.0 MB/s) - ‘./drive/My Drive/Colab Notebooks/SigNet/signatures.rar’ saved [253587033/253587033]\n",
            "\n"
          ],
          "name": "stdout"
        }
      ]
    },
    {
      "cell_type": "code",
      "metadata": {
        "id": "GyitYH7aVzZ8",
        "colab_type": "code",
        "outputId": "13f5ae65-ff6b-4513-e092-6ed6e9e51b32",
        "colab": {
          "base_uri": "https://localhost:8080/",
          "height": 122
        }
      },
      "source": [
        "# 0\n",
        "# Run this cell to mount your Google Drive.\n",
        "from google.colab import drive\n",
        "drive.mount('/content/drive')"
      ],
      "execution_count": 0,
      "outputs": [
        {
          "output_type": "stream",
          "text": [
            "Go to this URL in a browser: https://accounts.google.com/o/oauth2/auth?client_id=947318989803-6bn6qk8qdgf4n4g3pfee6491hc0brc4i.apps.googleusercontent.com&redirect_uri=urn%3Aietf%3Awg%3Aoauth%3A2.0%3Aoob&scope=email%20https%3A%2F%2Fwww.googleapis.com%2Fauth%2Fdocs.test%20https%3A%2F%2Fwww.googleapis.com%2Fauth%2Fdrive%20https%3A%2F%2Fwww.googleapis.com%2Fauth%2Fdrive.photos.readonly%20https%3A%2F%2Fwww.googleapis.com%2Fauth%2Fpeopleapi.readonly&response_type=code\n",
            "\n",
            "Enter your authorization code:\n",
            "··········\n",
            "Mounted at /content/drive\n"
          ],
          "name": "stdout"
        }
      ]
    },
    {
      "cell_type": "code",
      "metadata": {
        "id": "g_YZvaTuWVAp",
        "colab_type": "code",
        "colab": {}
      },
      "source": [
        "import os\n",
        "from natsort import natsorted, ns\n",
        "\n",
        "def get_image_list():\n",
        "  org_signs = os.listdir(\"drive/My Drive/Colab Notebooks/SigNet/signatures/signatures/full_org\")\n",
        "  forg_signs = os.listdir(\"drive/My Drive/Colab Notebooks/SigNet/signatures/signatures/full_forg\")\n",
        "  org_signs = [s for s in org_signs if s.endswith(\".png\")]\n",
        "  forg_signs = [s for s in forg_signs if s.endswith(\".png\")]\n",
        "  org_signs = natsorted(org_signs, alg=ns.IGNORECASE)\n",
        "  forg_signs = natsorted(forg_signs, alg=ns.IGNORECASE)\n",
        "  #org_signs,forg_signs = clean_lists(org_signs,forg_signs)\n",
        "  return org_signs, forg_signs"
      ],
      "execution_count": 0,
      "outputs": []
    },
    {
      "cell_type": "code",
      "metadata": {
        "id": "3FeQ6a85PngV",
        "colab_type": "code",
        "colab": {}
      },
      "source": [
        "# data cleaning\n",
        "def check_lists(org_signs,forg_signs):\n",
        "  flag = False\n",
        "  print(len(org_signs),len(forg_signs))\n",
        "  for i in range(len(org_signs)):\n",
        "    org_ext = org_signs[i][8:]\n",
        "    forg_ext = forg_signs[i][9:]\n",
        "    if org_ext != forg_ext:\n",
        "      flag = True\n",
        "      #print(i,org_ext,forg_ext)\n",
        "  if(flag):\n",
        "    print(\"Mismatches found\")\n",
        "  else:\n",
        "    print(\"No mismatch found\")\n",
        "\n",
        "def refine_lists(org_signs,forg_signs):\n",
        "  refined_org_signs = []\n",
        "  for i in range(len(org_signs)):\n",
        "    if \"_41_\" in org_signs[i]:\n",
        "      continue\n",
        "    refined_org_signs.append(org_signs[i])\n",
        "  \n",
        "  refined_forg_signs = []\n",
        "  for i in range(len(forg_signs)):\n",
        "    if \"_41_\" in forg_signs[i]:\n",
        "      continue\n",
        "    refined_forg_signs.append(forg_signs[i])\n",
        "  return refined_org_signs, refined_forg_signs\n",
        "\n",
        "def get_clean_lists():\n",
        "  org_signs, forg_signs = get_image_list()\n",
        "  check_lists(org_signs,forg_signs)\n",
        "  org_signs, forg_signs = refine_lists(org_signs,forg_signs)\n",
        "  check_lists(org_signs,forg_signs)\n",
        "  return org_signs, forg_signs"
      ],
      "execution_count": 0,
      "outputs": []
    },
    {
      "cell_type": "code",
      "metadata": {
        "id": "ZvTytxusdcsg",
        "colab_type": "code",
        "colab": {}
      },
      "source": [
        "import random\n",
        "import pandas as pd\n",
        "import numpy as np\n",
        "\n",
        "def get_dataframe(org_signs,forg_signs):\n",
        "  no_of_ppl = len(org_signs)//24\n",
        "\n",
        "  raw_data = {\"image_1\":[], \"image_2\":[], \"label\":[]}\n",
        "  for i in range(no_of_ppl):\n",
        "    i1_batch_1 = []\n",
        "    i1_batch_2 = []\n",
        "    i2_batch = []\n",
        "\n",
        "    start = i*24\n",
        "    end = (i+1)*24\n",
        "\n",
        "    for j in range(start,end): \n",
        "      i1_batch_1.append(os.path.join(PATH_ORG,org_signs[j]))\n",
        "      i1_batch_2.append(os.path.join(PATH_ORG,org_signs[j]))\n",
        "      raw_data[\"label\"].append(0)\n",
        "\n",
        "    temp_rot = (i1_batch_1[-12:]+i1_batch_1[:-12])\n",
        "    i1_batch_1.extend(i1_batch_2)\n",
        "\n",
        "    for elem in temp_rot:\n",
        "      i2_batch.append(os.path.join(PATH_ORG,elem))\n",
        "\n",
        "    for j in range(start,end): \n",
        "      i2_batch.append(os.path.join(PATH_FORG,forg_signs[j]))\n",
        "      raw_data[\"label\"].append(1)\n",
        "\n",
        "    raw_data[\"image_1\"].extend(i1_batch_1)\n",
        "    raw_data[\"image_2\"].extend(i2_batch)\n",
        "  print(len(raw_data[\"image_1\"]),len(raw_data[\"image_2\"]),len(raw_data[\"label\"]))\n",
        "  df = pd.DataFrame(raw_data, columns = [\"image_1\",\"image_2\",\"label\"])\n",
        "  df=df.reindex(np.random.permutation(df.index))\n",
        "  return df"
      ],
      "execution_count": 0,
      "outputs": []
    },
    {
      "cell_type": "code",
      "metadata": {
        "id": "aOOwTrfy7E-1",
        "colab_type": "code",
        "colab": {}
      },
      "source": [
        "from sklearn.model_selection import train_test_split\n",
        "import tensorflow as tf\n",
        "\n",
        "def get_dataset(subset=None):\n",
        "  org_signs,forg_signs = get_clean_lists()\n",
        "  df = get_dataframe(org_signs,forg_signs)\n",
        "  train_set, val_set = train_test_split(df,test_size=0.3,random_state=0)\n",
        "  if(subset.lower()==\"train\"):\n",
        "    dataset = train_set\n",
        "  else:\n",
        "    dataset = val_set\n",
        "  image_1 = dataset.image_1.values\n",
        "  image_2 = dataset.image_2.values\n",
        "  label = dataset.label.values\n",
        "  features = {'image_1':image_1, 'image_2':image_2}\n",
        "  dataset = tf.data.Dataset.from_tensor_slices((dict(features),label))\n",
        "  return dataset"
      ],
      "execution_count": 0,
      "outputs": []
    },
    {
      "cell_type": "code",
      "metadata": {
        "id": "DwhJ1ZvxqeY6",
        "colab_type": "code",
        "colab": {}
      },
      "source": [
        "PATH_ORG = \"drive/My Drive/Colab Notebooks/SigNet/signatures/signatures/full_org\"\n",
        "PATH_FORG = \"drive/My Drive/Colab Notebooks/SigNet/signatures/signatures/full_forg\"\n",
        "\n",
        "def train_input():\n",
        "  dataset = get_dataset(subset=\"train\")\n",
        "  dataset = dataset.shuffle(1814) #train_size = 2592*0.7\n",
        "  dataset = dataset.map((lambda x,y:get_images(x,y)),num_parallel_calls=4)\n",
        "  #dataset = dataset.map(standardize_images,num_parallel_calls=4)\n",
        "  #dataset = dataset.map(preprocess_images,num_parallel_calls=4)\n",
        "  dataset = dataset.repeat(100)#num_epochs\n",
        "  dataset = dataset.batch(32)#batch_size\n",
        "  dataset = dataset.prefetch(1)\n",
        "  #print(dataset)\n",
        "  return dataset\n",
        "\n",
        "def val_input():\n",
        "  dataset = get_dataset(subset=\"val\")\n",
        "  dataset = dataset.map((lambda x1,x2,y:get_images(x1,x2,y)),num_parallel_calls=4)\n",
        "  dataset = dataset.batch(32)#batch_size\n",
        "  dataset = dataset.prefetch(1)\n",
        "  return dataset\n",
        "\n",
        "def get_images(features,label):\n",
        "  img_ = []\n",
        "  for image_path in [features['image_1'],features['image_2']]:\n",
        "    image_string = tf.read_file(image_path)\n",
        "    img = tf.image.decode_jpeg(image_string, channels=3)\n",
        "    img = tf.image.convert_image_dtype(img, tf.float32)\n",
        "    img = tf.image.resize_images(img, [155, 220])#ref paper\n",
        "    img_.append(img)\n",
        "  feats = {'image_1':img_[0],'image_2':img_[1]}\n",
        "  return feats, label\n",
        "\n",
        "def standardize_images(image_1,image_2,label):\n",
        "  std_img = []\n",
        "  for img in [image_1,image_2]:\n",
        "    mean = np.mean(img,axis=None)\n",
        "    img = img - mean\n",
        "    std = np.std(img)\n",
        "    if(std == 0 or std == np.nan):\n",
        "      std = 1\n",
        "    standardized_img = img/std\n",
        "    std_img.append(standardized_img)\n",
        "  return std_img[0],std_img[1],label"
      ],
      "execution_count": 0,
      "outputs": []
    },
    {
      "cell_type": "code",
      "metadata": {
        "id": "s7u1poKkb7hD",
        "colab_type": "code",
        "colab": {}
      },
      "source": [
        "import tensorflow as tf"
      ],
      "execution_count": 0,
      "outputs": []
    },
    {
      "cell_type": "code",
      "metadata": {
        "id": "pQSUgueayQpu",
        "colab_type": "code",
        "colab": {}
      },
      "source": [
        "def build_model(image,mode):\n",
        "  inp = image\n",
        "  \n",
        "  conv_1 = tf.layers.conv2d(inputs=inp, filters=96, kernel_size=[11,11], padding=\"SAME\", activation=tf.nn.relu)\n",
        "  batch_norm_1 = tf.layers.batch_normalization(inputs=conv_1)\n",
        "  max_pool_1 = tf.layers.max_pooling2d(inputs=batch_norm_1, pool_size=[3,3], strides=2)\n",
        "  \n",
        "  conv_2 = tf.layers.conv2d(inputs=max_pool_1, filters=256, kernel_size=[5,5], padding=\"SAME\", activation=tf.nn.relu)\n",
        "  batch_norm_2 = tf.layers.batch_normalization(inputs=conv_2)\n",
        "  max_pool_2 = tf.layers.max_pooling2d(inputs=batch_norm_2, pool_size=[3,3], strides=2)\n",
        "  \n",
        "  dropout_1 = tf.layers.dropout(inputs=max_pool_2, rate=0.3)\n",
        "  \n",
        "  conv_3_a = tf.layers.conv2d(inputs=dropout_1, filters=384, kernel_size=[3,3], padding=\"SAME\", activation=tf.nn.relu)\n",
        "  conv_3_b = tf.layers.conv2d(inputs=conv_3_a, filters=256, kernel_size=[3,3], padding=\"SAME\", activation=tf.nn.relu)\n",
        "  max_pool_3 = tf.layers.max_pooling2d(inputs=conv_3_b, pool_size=[3,3], strides=2)\n",
        "  \n",
        "  dropout_2 = tf.layers.dropout(inputs=max_pool_3, rate=0.3)\n",
        "  \n",
        "  flat = tf.layers.flatten(inputs=dropout_2)\n",
        "  \n",
        "  fc_1 = tf.layers.dense(inputs=flat,units=1024,activation=tf.nn.relu)\n",
        "  dropout_3 = tf.layers.dropout(inputs=fc_1, rate=0.5)\n",
        "  fc_2 = tf.layers.dense(inputs=dropout_3,units=128,activation=tf.nn.relu)\n",
        "  \n",
        "  return fc_2"
      ],
      "execution_count": 0,
      "outputs": []
    },
    {
      "cell_type": "code",
      "metadata": {
        "id": "IS1I3XCDFAzU",
        "colab_type": "code",
        "colab": {}
      },
      "source": [
        "def build_fn(features,labels,mode,params):\n",
        "  encoding_1 = build_model(features[\"image_1\"],mode)\n",
        "  encoding_2 = build_model(features[\"image_2\"],mode)\n",
        "  \n",
        "  "
      ],
      "execution_count": 0,
      "outputs": []
    },
    {
      "cell_type": "code",
      "metadata": {
        "id": "yh3kwpplFJBr",
        "colab_type": "code",
        "outputId": "ca8ee649-8898-48b6-e9cd-9701cde8a2aa",
        "colab": {
          "base_uri": "https://localhost:8080/",
          "height": 531
        }
      },
      "source": [
        "estimator = tf.estimator.Estimator(model_fn=build_fn)\n",
        "estimator.train(input_fn=(lambda :train_input()),steps=100)\n"
      ],
      "execution_count": 0,
      "outputs": [
        {
          "output_type": "stream",
          "text": [
            "W0703 19:00:15.954614 140074049865600 estimator.py:1811] Using temporary folder as model directory: /tmp/tmpfs8yfvna\n",
            "W0703 19:00:15.956076 140074049865600 model_fn.py:630] Estimator's model_fn (<function build_fn at 0x7f65351a3378>) includes params argument, but params are not passed to Estimator.\n"
          ],
          "name": "stderr"
        },
        {
          "output_type": "stream",
          "text": [
            "1316 1320\n",
            "Mismatches found\n",
            "1296 1296\n",
            "No mismatch found\n",
            "2592 2592 2592\n",
            "<DatasetV1Adapter shapes: ({image_1: (), image_2: ()}, ()), types: ({image_1: tf.string, image_2: tf.string}, tf.int64)>\n",
            "{'image_1': <tf.Tensor 'args_0:0' shape=() dtype=string>, 'image_2': <tf.Tensor 'args_1:0' shape=() dtype=string>}\n",
            "image_1 {'image_1': <tf.Tensor 'IteratorGetNext:0' shape=(?, 155, 220, 3) dtype=float32>, 'image_2': <tf.Tensor 'IteratorGetNext:1' shape=(?, 155, 220, 3) dtype=float32>}\n",
            "image_2 train\n"
          ],
          "name": "stdout"
        },
        {
          "output_type": "error",
          "ename": "ValueError",
          "evalue": "ignored",
          "traceback": [
            "\u001b[0;31m---------------------------------------------------------------------------\u001b[0m",
            "\u001b[0;31mValueError\u001b[0m                                Traceback (most recent call last)",
            "\u001b[0;32m<ipython-input-42-f62c103d4f37>\u001b[0m in \u001b[0;36m<module>\u001b[0;34m()\u001b[0m\n\u001b[1;32m      1\u001b[0m \u001b[0mestimator\u001b[0m \u001b[0;34m=\u001b[0m \u001b[0mtf\u001b[0m\u001b[0;34m.\u001b[0m\u001b[0mestimator\u001b[0m\u001b[0;34m.\u001b[0m\u001b[0mEstimator\u001b[0m\u001b[0;34m(\u001b[0m\u001b[0mmodel_fn\u001b[0m\u001b[0;34m=\u001b[0m\u001b[0mbuild_fn\u001b[0m\u001b[0;34m)\u001b[0m\u001b[0;34m\u001b[0m\u001b[0;34m\u001b[0m\u001b[0m\n\u001b[0;32m----> 2\u001b[0;31m \u001b[0mestimator\u001b[0m\u001b[0;34m.\u001b[0m\u001b[0mtrain\u001b[0m\u001b[0;34m(\u001b[0m\u001b[0minput_fn\u001b[0m\u001b[0;34m=\u001b[0m\u001b[0;34m(\u001b[0m\u001b[0;32mlambda\u001b[0m \u001b[0;34m:\u001b[0m\u001b[0mtrain_input\u001b[0m\u001b[0;34m(\u001b[0m\u001b[0;34m)\u001b[0m\u001b[0;34m)\u001b[0m\u001b[0;34m,\u001b[0m\u001b[0msteps\u001b[0m\u001b[0;34m=\u001b[0m\u001b[0;36m100\u001b[0m\u001b[0;34m)\u001b[0m\u001b[0;34m\u001b[0m\u001b[0;34m\u001b[0m\u001b[0m\n\u001b[0m",
            "\u001b[0;32m/usr/local/lib/python3.6/dist-packages/tensorflow_estimator/python/estimator/estimator.py\u001b[0m in \u001b[0;36mtrain\u001b[0;34m(self, input_fn, hooks, steps, max_steps, saving_listeners)\u001b[0m\n\u001b[1;32m    365\u001b[0m \u001b[0;34m\u001b[0m\u001b[0m\n\u001b[1;32m    366\u001b[0m       \u001b[0msaving_listeners\u001b[0m \u001b[0;34m=\u001b[0m \u001b[0m_check_listeners_type\u001b[0m\u001b[0;34m(\u001b[0m\u001b[0msaving_listeners\u001b[0m\u001b[0;34m)\u001b[0m\u001b[0;34m\u001b[0m\u001b[0;34m\u001b[0m\u001b[0m\n\u001b[0;32m--> 367\u001b[0;31m       \u001b[0mloss\u001b[0m \u001b[0;34m=\u001b[0m \u001b[0mself\u001b[0m\u001b[0;34m.\u001b[0m\u001b[0m_train_model\u001b[0m\u001b[0;34m(\u001b[0m\u001b[0minput_fn\u001b[0m\u001b[0;34m,\u001b[0m \u001b[0mhooks\u001b[0m\u001b[0;34m,\u001b[0m \u001b[0msaving_listeners\u001b[0m\u001b[0;34m)\u001b[0m\u001b[0;34m\u001b[0m\u001b[0;34m\u001b[0m\u001b[0m\n\u001b[0m\u001b[1;32m    368\u001b[0m       \u001b[0mlogging\u001b[0m\u001b[0;34m.\u001b[0m\u001b[0minfo\u001b[0m\u001b[0;34m(\u001b[0m\u001b[0;34m'Loss for final step: %s.'\u001b[0m\u001b[0;34m,\u001b[0m \u001b[0mloss\u001b[0m\u001b[0;34m)\u001b[0m\u001b[0;34m\u001b[0m\u001b[0;34m\u001b[0m\u001b[0m\n\u001b[1;32m    369\u001b[0m       \u001b[0;32mreturn\u001b[0m \u001b[0mself\u001b[0m\u001b[0;34m\u001b[0m\u001b[0;34m\u001b[0m\u001b[0m\n",
            "\u001b[0;32m/usr/local/lib/python3.6/dist-packages/tensorflow_estimator/python/estimator/estimator.py\u001b[0m in \u001b[0;36m_train_model\u001b[0;34m(self, input_fn, hooks, saving_listeners)\u001b[0m\n\u001b[1;32m   1156\u001b[0m       \u001b[0;32mreturn\u001b[0m \u001b[0mself\u001b[0m\u001b[0;34m.\u001b[0m\u001b[0m_train_model_distributed\u001b[0m\u001b[0;34m(\u001b[0m\u001b[0minput_fn\u001b[0m\u001b[0;34m,\u001b[0m \u001b[0mhooks\u001b[0m\u001b[0;34m,\u001b[0m \u001b[0msaving_listeners\u001b[0m\u001b[0;34m)\u001b[0m\u001b[0;34m\u001b[0m\u001b[0;34m\u001b[0m\u001b[0m\n\u001b[1;32m   1157\u001b[0m     \u001b[0;32melse\u001b[0m\u001b[0;34m:\u001b[0m\u001b[0;34m\u001b[0m\u001b[0;34m\u001b[0m\u001b[0m\n\u001b[0;32m-> 1158\u001b[0;31m       \u001b[0;32mreturn\u001b[0m \u001b[0mself\u001b[0m\u001b[0;34m.\u001b[0m\u001b[0m_train_model_default\u001b[0m\u001b[0;34m(\u001b[0m\u001b[0minput_fn\u001b[0m\u001b[0;34m,\u001b[0m \u001b[0mhooks\u001b[0m\u001b[0;34m,\u001b[0m \u001b[0msaving_listeners\u001b[0m\u001b[0;34m)\u001b[0m\u001b[0;34m\u001b[0m\u001b[0;34m\u001b[0m\u001b[0m\n\u001b[0m\u001b[1;32m   1159\u001b[0m \u001b[0;34m\u001b[0m\u001b[0m\n\u001b[1;32m   1160\u001b[0m   \u001b[0;32mdef\u001b[0m \u001b[0m_train_model_default\u001b[0m\u001b[0;34m(\u001b[0m\u001b[0mself\u001b[0m\u001b[0;34m,\u001b[0m \u001b[0minput_fn\u001b[0m\u001b[0;34m,\u001b[0m \u001b[0mhooks\u001b[0m\u001b[0;34m,\u001b[0m \u001b[0msaving_listeners\u001b[0m\u001b[0;34m)\u001b[0m\u001b[0;34m:\u001b[0m\u001b[0;34m\u001b[0m\u001b[0;34m\u001b[0m\u001b[0m\n",
            "\u001b[0;32m/usr/local/lib/python3.6/dist-packages/tensorflow_estimator/python/estimator/estimator.py\u001b[0m in \u001b[0;36m_train_model_default\u001b[0;34m(self, input_fn, hooks, saving_listeners)\u001b[0m\n\u001b[1;32m   1186\u001b[0m       \u001b[0mworker_hooks\u001b[0m\u001b[0;34m.\u001b[0m\u001b[0mextend\u001b[0m\u001b[0;34m(\u001b[0m\u001b[0minput_hooks\u001b[0m\u001b[0;34m)\u001b[0m\u001b[0;34m\u001b[0m\u001b[0;34m\u001b[0m\u001b[0m\n\u001b[1;32m   1187\u001b[0m       estimator_spec = self._call_model_fn(\n\u001b[0;32m-> 1188\u001b[0;31m           features, labels, ModeKeys.TRAIN, self.config)\n\u001b[0m\u001b[1;32m   1189\u001b[0m       \u001b[0mglobal_step_tensor\u001b[0m \u001b[0;34m=\u001b[0m \u001b[0mtraining_util\u001b[0m\u001b[0;34m.\u001b[0m\u001b[0mget_global_step\u001b[0m\u001b[0;34m(\u001b[0m\u001b[0mg\u001b[0m\u001b[0;34m)\u001b[0m\u001b[0;34m\u001b[0m\u001b[0;34m\u001b[0m\u001b[0m\n\u001b[1;32m   1190\u001b[0m       return self._train_with_estimator_spec(estimator_spec, worker_hooks,\n",
            "\u001b[0;32m/usr/local/lib/python3.6/dist-packages/tensorflow_estimator/python/estimator/estimator.py\u001b[0m in \u001b[0;36m_call_model_fn\u001b[0;34m(self, features, labels, mode, config)\u001b[0m\n\u001b[1;32m   1148\u001b[0m \u001b[0;34m\u001b[0m\u001b[0m\n\u001b[1;32m   1149\u001b[0m     \u001b[0;32mif\u001b[0m \u001b[0;32mnot\u001b[0m \u001b[0misinstance\u001b[0m\u001b[0;34m(\u001b[0m\u001b[0mmodel_fn_results\u001b[0m\u001b[0;34m,\u001b[0m \u001b[0mmodel_fn_lib\u001b[0m\u001b[0;34m.\u001b[0m\u001b[0mEstimatorSpec\u001b[0m\u001b[0;34m)\u001b[0m\u001b[0;34m:\u001b[0m\u001b[0;34m\u001b[0m\u001b[0;34m\u001b[0m\u001b[0m\n\u001b[0;32m-> 1150\u001b[0;31m       \u001b[0;32mraise\u001b[0m \u001b[0mValueError\u001b[0m\u001b[0;34m(\u001b[0m\u001b[0;34m'model_fn should return an EstimatorSpec.'\u001b[0m\u001b[0;34m)\u001b[0m\u001b[0;34m\u001b[0m\u001b[0;34m\u001b[0m\u001b[0m\n\u001b[0m\u001b[1;32m   1151\u001b[0m \u001b[0;34m\u001b[0m\u001b[0m\n\u001b[1;32m   1152\u001b[0m     \u001b[0;32mreturn\u001b[0m \u001b[0mmodel_fn_results\u001b[0m\u001b[0;34m\u001b[0m\u001b[0;34m\u001b[0m\u001b[0m\n",
            "\u001b[0;31mValueError\u001b[0m: model_fn should return an EstimatorSpec."
          ]
        }
      ]
    }
  ]
}