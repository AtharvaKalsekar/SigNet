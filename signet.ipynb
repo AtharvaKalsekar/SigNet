{
  "nbformat": 4,
  "nbformat_minor": 0,
  "metadata": {
    "colab": {
      "name": "signet.ipynb",
      "version": "0.3.2",
      "provenance": [],
      "collapsed_sections": []
    },
    "kernelspec": {
      "name": "python3",
      "display_name": "Python 3"
    },
    "accelerator": "GPU"
  },
  "cells": [
    {
      "cell_type": "code",
      "metadata": {
        "id": "hlTs1b1JEyIN",
        "colab_type": "code",
        "colab": {}
      },
      "source": [
        "# -2\n",
        "# Run this cell to mount your Google Drive.\n",
        "from google.colab import drive\n",
        "drive.mount('/content/drive')"
      ],
      "execution_count": 0,
      "outputs": []
    },
    {
      "cell_type": "code",
      "metadata": {
        "id": "X9QWHel1Tzdx",
        "colab_type": "code",
        "outputId": "036c9ad0-f3b7-44a0-cb5c-246c3b009ec8",
        "colab": {
          "base_uri": "https://localhost:8080/",
          "height": 309
        }
      },
      "source": [
        "# -1\n",
        "!wget -O \"./drive/My Drive/Colab Notebooks/SigNet/signatures.rar\" \"http://www.cedar.buffalo.edu/NIJ/data/signatures.rar\""
      ],
      "execution_count": 0,
      "outputs": [
        {
          "output_type": "stream",
          "text": [
            "--2019-06-29 17:50:53--  http://www.cedar.buffalo.edu/NIJ/data/signatures.rar\n",
            "Resolving www.cedar.buffalo.edu (www.cedar.buffalo.edu)... 128.205.237.100\n",
            "Connecting to www.cedar.buffalo.edu (www.cedar.buffalo.edu)|128.205.237.100|:80... connected.\n",
            "HTTP request sent, awaiting response... 301 Moved Permanently\n",
            "Location: https://cedar.buffalo.edu/NIJ/data/signatures.rar [following]\n",
            "--2019-06-29 17:50:53--  https://cedar.buffalo.edu/NIJ/data/signatures.rar\n",
            "Resolving cedar.buffalo.edu (cedar.buffalo.edu)... 128.205.237.100\n",
            "Connecting to cedar.buffalo.edu (cedar.buffalo.edu)|128.205.237.100|:443... connected.\n",
            "HTTP request sent, awaiting response... 200 OK\n",
            "Length: 253587033 (242M) [text/plain]\n",
            "Saving to: ‘./drive/My Drive/Colab Notebooks/SigNet/signatures.rar’\n",
            "\n",
            "./drive/My Drive/Co 100%[===================>] 241.84M  63.3MB/s    in 4.6s    \n",
            "\n",
            "2019-06-29 17:50:58 (53.0 MB/s) - ‘./drive/My Drive/Colab Notebooks/SigNet/signatures.rar’ saved [253587033/253587033]\n",
            "\n"
          ],
          "name": "stdout"
        }
      ]
    },
    {
      "cell_type": "code",
      "metadata": {
        "id": "GyitYH7aVzZ8",
        "colab_type": "code",
        "outputId": "82e8c4c4-2bcb-412d-e5b8-8b603d6d3b32",
        "colab": {
          "base_uri": "https://localhost:8080/",
          "height": 122
        }
      },
      "source": [
        "# 0\n",
        "# Run this cell to mount your Google Drive.\n",
        "from google.colab import drive\n",
        "drive.mount('/content/drive')"
      ],
      "execution_count": 1,
      "outputs": [
        {
          "output_type": "stream",
          "text": [
            "Go to this URL in a browser: https://accounts.google.com/o/oauth2/auth?client_id=947318989803-6bn6qk8qdgf4n4g3pfee6491hc0brc4i.apps.googleusercontent.com&redirect_uri=urn%3Aietf%3Awg%3Aoauth%3A2.0%3Aoob&scope=email%20https%3A%2F%2Fwww.googleapis.com%2Fauth%2Fdocs.test%20https%3A%2F%2Fwww.googleapis.com%2Fauth%2Fdrive%20https%3A%2F%2Fwww.googleapis.com%2Fauth%2Fdrive.photos.readonly%20https%3A%2F%2Fwww.googleapis.com%2Fauth%2Fpeopleapi.readonly&response_type=code\n",
            "\n",
            "Enter your authorization code:\n",
            "··········\n",
            "Mounted at /content/drive\n"
          ],
          "name": "stdout"
        }
      ]
    },
    {
      "cell_type": "code",
      "metadata": {
        "id": "g_YZvaTuWVAp",
        "colab_type": "code",
        "colab": {}
      },
      "source": [
        "import os\n",
        "from natsort import natsorted, ns\n",
        "\n",
        "def get_image_list():\n",
        "  org_signs = os.listdir(\"drive/My Drive/Colab Notebooks/SigNet/signatures/signatures/full_org\")\n",
        "  forg_signs = os.listdir(\"drive/My Drive/Colab Notebooks/SigNet/signatures/signatures/full_forg\")\n",
        "  org_signs = [s for s in org_signs if s.endswith(\".png\")]\n",
        "  forg_signs = [s for s in forg_signs if s.endswith(\".png\")]\n",
        "  org_signs = natsorted(org_signs, alg=ns.IGNORECASE)\n",
        "  forg_signs = natsorted(forg_signs, alg=ns.IGNORECASE)\n",
        "  return org_signs, forg_signs"
      ],
      "execution_count": 0,
      "outputs": []
    },
    {
      "cell_type": "code",
      "metadata": {
        "id": "3FeQ6a85PngV",
        "colab_type": "code",
        "colab": {}
      },
      "source": [
        "# data cleaning\n",
        "def check_lists(org_signs,forg_signs):\n",
        "  flag = False\n",
        "  print(len(org_signs),len(forg_signs))\n",
        "  for i in range(len(org_signs)):\n",
        "    org_ext = org_signs[i][8:]\n",
        "    forg_ext = forg_signs[i][9:]\n",
        "    if org_ext != forg_ext:\n",
        "      flag = True\n",
        "      #print(i,org_ext,forg_ext)\n",
        "  if(flag):\n",
        "    print(\"Mismatches found\")\n",
        "  else:\n",
        "    print(\"No mismatch found\")\n",
        "\n",
        "def refine_lists(org_signs,forg_signs):\n",
        "  refined_org_signs = []\n",
        "  for i in range(len(org_signs)):\n",
        "    if \"_41_\" in org_signs[i]:\n",
        "      continue\n",
        "    refined_org_signs.append(org_signs[i])\n",
        "  \n",
        "  refined_forg_signs = []\n",
        "  for i in range(len(forg_signs)):\n",
        "    if \"_41_\" in forg_signs[i]:\n",
        "      continue\n",
        "    refined_forg_signs.append(forg_signs[i])\n",
        "  return refined_org_signs, refined_forg_signs\n",
        "\n",
        "def clean_lists(org_signs,forg_signs):\n",
        "  org_signs, forg_signs = get_image_list()\n",
        "  check_lists(org_signs,forg_signs)\n",
        "  org_signs, forg_signs = refine_lists(org_signs,forg_signs)\n",
        "  check_lists(org_signs,forg_signs)\n",
        "  return org_signs, forg_signs"
      ],
      "execution_count": 0,
      "outputs": []
    },
    {
      "cell_type": "code",
      "metadata": {
        "id": "ZvTytxusdcsg",
        "colab_type": "code",
        "colab": {}
      },
      "source": [
        "import random\n",
        "import pandas as pd\n",
        "import numpy as np\n",
        "\n",
        "def get_dataframe(org_signs,forg_signs):\n",
        "  no_of_ppl = len(org_signs)//24\n",
        "\n",
        "  raw_data = {\"image_1\":[], \"image_2\":[], \"label\":[]}\n",
        "  for i in range(no_of_ppl):\n",
        "    i1_batch_1 = []\n",
        "    i1_batch_2 = []\n",
        "    i2_batch = []\n",
        "\n",
        "    start = i*24\n",
        "    end = (i+1)*24\n",
        "\n",
        "    for j in range(start,end): \n",
        "      i1_batch_1.append(org_signs[j])\n",
        "      i1_batch_2.append(org_signs[j])\n",
        "      raw_data[\"label\"].append(0)\n",
        "\n",
        "    temp_rot = (i1_batch_1[-12:]+i1_batch_1[:-12])\n",
        "    i1_batch_1.extend(i1_batch_2)\n",
        "\n",
        "    for elem in temp_rot:\n",
        "      i2_batch.append(elem)\n",
        "\n",
        "    for j in range(start,end): \n",
        "      i2_batch.append(forg_signs[j])\n",
        "      raw_data[\"label\"].append(1)\n",
        "\n",
        "    raw_data[\"image_1\"].extend(i1_batch_1)\n",
        "    raw_data[\"image_2\"].extend(i2_batch)\n",
        "  print(len(raw_data[\"image_1\"]),len(raw_data[\"image_2\"]),len(raw_data[\"label\"]))\n",
        "  df = pd.DataFrame(raw_data, columns = [\"image_1\",\"image_2\",\"label\"])\n",
        "  df=df.reindex(np.random.permutation(df.index))\n",
        "  return df"
      ],
      "execution_count": 0,
      "outputs": []
    },
    {
      "cell_type": "code",
      "metadata": {
        "id": "xDzkfLEX4z80",
        "colab_type": "code",
        "colab": {
          "base_uri": "https://localhost:8080/",
          "height": 102
        },
        "outputId": "bb2634ec-c64f-499d-e62c-9940a3ebc9ba"
      },
      "source": [
        "#generate labels\n",
        "org_signs, forg_signs = get_image_list()\n",
        "org_signs, forg_signs = clean_lists(org_signs, forg_signs)\n",
        "df = get_dataframe(org_signs,forg_signs)"
      ],
      "execution_count": 68,
      "outputs": [
        {
          "output_type": "stream",
          "text": [
            "1316 1320\n",
            "Mismatches found\n",
            "1296 1296\n",
            "No mismatch found\n",
            "2592 2592 2592\n"
          ],
          "name": "stdout"
        }
      ]
    },
    {
      "cell_type": "code",
      "metadata": {
        "id": "wPZDeJZF5Ol-",
        "colab_type": "code",
        "colab": {
          "base_uri": "https://localhost:8080/",
          "height": 204
        },
        "outputId": "a6cbd362-bdd0-493d-e9fc-7e959841b2d3"
      },
      "source": [
        "df.head()"
      ],
      "execution_count": 69,
      "outputs": [
        {
          "output_type": "execute_result",
          "data": {
            "text/html": [
              "<div>\n",
              "<style scoped>\n",
              "    .dataframe tbody tr th:only-of-type {\n",
              "        vertical-align: middle;\n",
              "    }\n",
              "\n",
              "    .dataframe tbody tr th {\n",
              "        vertical-align: top;\n",
              "    }\n",
              "\n",
              "    .dataframe thead th {\n",
              "        text-align: right;\n",
              "    }\n",
              "</style>\n",
              "<table border=\"1\" class=\"dataframe\">\n",
              "  <thead>\n",
              "    <tr style=\"text-align: right;\">\n",
              "      <th></th>\n",
              "      <th>image_1</th>\n",
              "      <th>image_2</th>\n",
              "      <th>label</th>\n",
              "    </tr>\n",
              "  </thead>\n",
              "  <tbody>\n",
              "    <tr>\n",
              "      <th>2480</th>\n",
              "      <td>original_53_9.png</td>\n",
              "      <td>forgeries_53_9.png</td>\n",
              "      <td>1</td>\n",
              "    </tr>\n",
              "    <tr>\n",
              "      <th>1640</th>\n",
              "      <td>original_35_9.png</td>\n",
              "      <td>original_35_21.png</td>\n",
              "      <td>0</td>\n",
              "    </tr>\n",
              "    <tr>\n",
              "      <th>1608</th>\n",
              "      <td>original_34_1.png</td>\n",
              "      <td>forgeries_34_1.png</td>\n",
              "      <td>1</td>\n",
              "    </tr>\n",
              "    <tr>\n",
              "      <th>1379</th>\n",
              "      <td>original_29_12.png</td>\n",
              "      <td>forgeries_29_12.png</td>\n",
              "      <td>1</td>\n",
              "    </tr>\n",
              "    <tr>\n",
              "      <th>2473</th>\n",
              "      <td>original_53_2.png</td>\n",
              "      <td>forgeries_53_2.png</td>\n",
              "      <td>1</td>\n",
              "    </tr>\n",
              "  </tbody>\n",
              "</table>\n",
              "</div>"
            ],
            "text/plain": [
              "                 image_1              image_2  label\n",
              "2480   original_53_9.png   forgeries_53_9.png      1\n",
              "1640   original_35_9.png   original_35_21.png      0\n",
              "1608   original_34_1.png   forgeries_34_1.png      1\n",
              "1379  original_29_12.png  forgeries_29_12.png      1\n",
              "2473   original_53_2.png   forgeries_53_2.png      1"
            ]
          },
          "metadata": {
            "tags": []
          },
          "execution_count": 69
        }
      ]
    },
    {
      "cell_type": "code",
      "metadata": {
        "id": "aOOwTrfy7E-1",
        "colab_type": "code",
        "colab": {}
      },
      "source": [
        "from sklearn.model_selection import train_test_split\n",
        "train_set, val_set = train_test_split(df,test_size=0.3,random_state=0)"
      ],
      "execution_count": 0,
      "outputs": []
    },
    {
      "cell_type": "code",
      "metadata": {
        "id": "TUH_oHId7dEG",
        "colab_type": "code",
        "colab": {
          "base_uri": "https://localhost:8080/",
          "height": 204
        },
        "outputId": "4e2e5632-326e-4174-b54c-b7a317a09bfe"
      },
      "source": [
        "train_set.head()"
      ],
      "execution_count": 72,
      "outputs": [
        {
          "output_type": "execute_result",
          "data": {
            "text/html": [
              "<div>\n",
              "<style scoped>\n",
              "    .dataframe tbody tr th:only-of-type {\n",
              "        vertical-align: middle;\n",
              "    }\n",
              "\n",
              "    .dataframe tbody tr th {\n",
              "        vertical-align: top;\n",
              "    }\n",
              "\n",
              "    .dataframe thead th {\n",
              "        text-align: right;\n",
              "    }\n",
              "</style>\n",
              "<table border=\"1\" class=\"dataframe\">\n",
              "  <thead>\n",
              "    <tr style=\"text-align: right;\">\n",
              "      <th></th>\n",
              "      <th>image_1</th>\n",
              "      <th>image_2</th>\n",
              "      <th>label</th>\n",
              "    </tr>\n",
              "  </thead>\n",
              "  <tbody>\n",
              "    <tr>\n",
              "      <th>2498</th>\n",
              "      <td>original_54_3.png</td>\n",
              "      <td>original_54_15.png</td>\n",
              "      <td>0</td>\n",
              "    </tr>\n",
              "    <tr>\n",
              "      <th>1116</th>\n",
              "      <td>original_24_13.png</td>\n",
              "      <td>original_24_1.png</td>\n",
              "      <td>0</td>\n",
              "    </tr>\n",
              "    <tr>\n",
              "      <th>62</th>\n",
              "      <td>original_2_15.png</td>\n",
              "      <td>original_2_3.png</td>\n",
              "      <td>0</td>\n",
              "    </tr>\n",
              "    <tr>\n",
              "      <th>2326</th>\n",
              "      <td>original_50_23.png</td>\n",
              "      <td>original_50_11.png</td>\n",
              "      <td>0</td>\n",
              "    </tr>\n",
              "    <tr>\n",
              "      <th>2332</th>\n",
              "      <td>original_50_5.png</td>\n",
              "      <td>forgeries_50_5.png</td>\n",
              "      <td>1</td>\n",
              "    </tr>\n",
              "  </tbody>\n",
              "</table>\n",
              "</div>"
            ],
            "text/plain": [
              "                 image_1             image_2  label\n",
              "2498   original_54_3.png  original_54_15.png      0\n",
              "1116  original_24_13.png   original_24_1.png      0\n",
              "62     original_2_15.png    original_2_3.png      0\n",
              "2326  original_50_23.png  original_50_11.png      0\n",
              "2332   original_50_5.png  forgeries_50_5.png      1"
            ]
          },
          "metadata": {
            "tags": []
          },
          "execution_count": 72
        }
      ]
    }
  ]
}